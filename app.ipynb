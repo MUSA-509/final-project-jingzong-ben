{
 "cells": [
  {
   "cell_type": "code",
   "execution_count": 1,
   "metadata": {},
   "outputs": [],
   "source": [
    "import pandas as pd\n",
    "import altair as alt\n",
    "from google.cloud import bigquery\n",
    "import geopandas as gpd\n",
    "from shapely import wkt\n",
    "from census import Census\n",
    "from us import states\n",
    "#import google.auth\n",
    "#from google.cloud import bigquery\n",
    "#from google.cloud import bigquery_storage\n",
    "bqclient = bigquery.Client.from_service_account_json('C:/Users/bennd/Documents/MUSA509/TransitPolicyApp-99838a65a6ed.json')\n",
    "pd.set_option('mode.chained_assignment', None)\n",
    "#ridership = pd.read_csv(\"data/ridership.csv\")\n",
    "#ridership['month'] = pd.to_datetime(ridership['month'])\n",
    "covid = pd.read_csv(\"data/us-counties.csv\")\n",
    "covid['date'] = pd.to_datetime(covid['date'])\n",
    "top50 = pd.read_csv(\"data/top50.csv\")"
   ]
  },
  {
   "cell_type": "code",
   "execution_count": 2,
   "metadata": {},
   "outputs": [],
   "source": [
    "import plotly.express as px"
   ]
  },
  {
   "cell_type": "code",
   "execution_count": 3,
   "metadata": {},
   "outputs": [
    {
     "data": {
      "text/html": [
       "<div>\n",
       "<style scoped>\n",
       "    .dataframe tbody tr th:only-of-type {\n",
       "        vertical-align: middle;\n",
       "    }\n",
       "\n",
       "    .dataframe tbody tr th {\n",
       "        vertical-align: top;\n",
       "    }\n",
       "\n",
       "    .dataframe thead th {\n",
       "        text-align: right;\n",
       "    }\n",
       "</style>\n",
       "<table border=\"1\" class=\"dataframe\">\n",
       "  <thead>\n",
       "    <tr style=\"text-align: right;\">\n",
       "      <th></th>\n",
       "      <th>date</th>\n",
       "      <th>county</th>\n",
       "      <th>state</th>\n",
       "      <th>fips</th>\n",
       "      <th>cases</th>\n",
       "      <th>deaths</th>\n",
       "    </tr>\n",
       "  </thead>\n",
       "  <tbody>\n",
       "    <tr>\n",
       "      <th>577661</th>\n",
       "      <td>2020-09-30</td>\n",
       "      <td>Autauga</td>\n",
       "      <td>Alabama</td>\n",
       "      <td>1001</td>\n",
       "      <td>1791</td>\n",
       "      <td>27.0</td>\n",
       "    </tr>\n",
       "    <tr>\n",
       "      <th>577662</th>\n",
       "      <td>2020-09-30</td>\n",
       "      <td>Baldwin</td>\n",
       "      <td>Alabama</td>\n",
       "      <td>1003</td>\n",
       "      <td>5640</td>\n",
       "      <td>52.0</td>\n",
       "    </tr>\n",
       "    <tr>\n",
       "      <th>577663</th>\n",
       "      <td>2020-09-30</td>\n",
       "      <td>Barbour</td>\n",
       "      <td>Alabama</td>\n",
       "      <td>1005</td>\n",
       "      <td>896</td>\n",
       "      <td>7.0</td>\n",
       "    </tr>\n",
       "    <tr>\n",
       "      <th>577664</th>\n",
       "      <td>2020-09-30</td>\n",
       "      <td>Bibb</td>\n",
       "      <td>Alabama</td>\n",
       "      <td>1007</td>\n",
       "      <td>664</td>\n",
       "      <td>11.0</td>\n",
       "    </tr>\n",
       "    <tr>\n",
       "      <th>577665</th>\n",
       "      <td>2020-09-30</td>\n",
       "      <td>Blount</td>\n",
       "      <td>Alabama</td>\n",
       "      <td>1009</td>\n",
       "      <td>1629</td>\n",
       "      <td>15.0</td>\n",
       "    </tr>\n",
       "  </tbody>\n",
       "</table>\n",
       "</div>"
      ],
      "text/plain": [
       "             date   county    state  fips  cases  deaths\n",
       "577661 2020-09-30  Autauga  Alabama  1001   1791    27.0\n",
       "577662 2020-09-30  Baldwin  Alabama  1003   5640    52.0\n",
       "577663 2020-09-30  Barbour  Alabama  1005    896     7.0\n",
       "577664 2020-09-30     Bibb  Alabama  1007    664    11.0\n",
       "577665 2020-09-30   Blount  Alabama  1009   1629    15.0"
      ]
     },
     "execution_count": 3,
     "metadata": {},
     "output_type": "execute_result"
    }
   ],
   "source": [
    "covid_l = covid[covid[\"date\"] == \"2020-09-30\"]\n",
    "covid_l.head()"
   ]
  },
  {
   "cell_type": "code",
   "execution_count": 19,
   "metadata": {},
   "outputs": [
    {
     "data": {
      "text/html": [
       "<div>\n",
       "<style scoped>\n",
       "    .dataframe tbody tr th:only-of-type {\n",
       "        vertical-align: middle;\n",
       "    }\n",
       "\n",
       "    .dataframe tbody tr th {\n",
       "        vertical-align: top;\n",
       "    }\n",
       "\n",
       "    .dataframe thead th {\n",
       "        text-align: right;\n",
       "    }\n",
       "</style>\n",
       "<table border=\"1\" class=\"dataframe\">\n",
       "  <thead>\n",
       "    <tr style=\"text-align: right;\">\n",
       "      <th></th>\n",
       "      <th>metro_area</th>\n",
       "      <th>area_land</th>\n",
       "      <th>area_water</th>\n",
       "      <th>GEOID10</th>\n",
       "      <th>mode</th>\n",
       "      <th>month</th>\n",
       "      <th>trips</th>\n",
       "      <th>classification</th>\n",
       "      <th>lat</th>\n",
       "      <th>lon</th>\n",
       "    </tr>\n",
       "  </thead>\n",
       "  <tbody>\n",
       "    <tr>\n",
       "      <th>0</th>\n",
       "      <td>Monessen-California, PA</td>\n",
       "      <td>115663317</td>\n",
       "      <td>3688078</td>\n",
       "      <td>58168</td>\n",
       "      <td>Bus</td>\n",
       "      <td>2019-01</td>\n",
       "      <td>22447</td>\n",
       "      <td>Non-Rail</td>\n",
       "      <td>40.136158</td>\n",
       "      <td>-79.884233</td>\n",
       "    </tr>\n",
       "    <tr>\n",
       "      <th>1</th>\n",
       "      <td>Monessen-California, PA</td>\n",
       "      <td>115663317</td>\n",
       "      <td>3688078</td>\n",
       "      <td>58168</td>\n",
       "      <td>Bus</td>\n",
       "      <td>2019-02</td>\n",
       "      <td>23338</td>\n",
       "      <td>Non-Rail</td>\n",
       "      <td>40.136158</td>\n",
       "      <td>-79.884233</td>\n",
       "    </tr>\n",
       "    <tr>\n",
       "      <th>2</th>\n",
       "      <td>Monessen-California, PA</td>\n",
       "      <td>115663317</td>\n",
       "      <td>3688078</td>\n",
       "      <td>58168</td>\n",
       "      <td>Bus</td>\n",
       "      <td>2019-03</td>\n",
       "      <td>24577</td>\n",
       "      <td>Non-Rail</td>\n",
       "      <td>40.136158</td>\n",
       "      <td>-79.884233</td>\n",
       "    </tr>\n",
       "    <tr>\n",
       "      <th>3</th>\n",
       "      <td>Monessen-California, PA</td>\n",
       "      <td>115663317</td>\n",
       "      <td>3688078</td>\n",
       "      <td>58168</td>\n",
       "      <td>Bus</td>\n",
       "      <td>2019-04</td>\n",
       "      <td>24723</td>\n",
       "      <td>Non-Rail</td>\n",
       "      <td>40.136158</td>\n",
       "      <td>-79.884233</td>\n",
       "    </tr>\n",
       "    <tr>\n",
       "      <th>4</th>\n",
       "      <td>Monessen-California, PA</td>\n",
       "      <td>115663317</td>\n",
       "      <td>3688078</td>\n",
       "      <td>58168</td>\n",
       "      <td>Bus</td>\n",
       "      <td>2019-05</td>\n",
       "      <td>23115</td>\n",
       "      <td>Non-Rail</td>\n",
       "      <td>40.136158</td>\n",
       "      <td>-79.884233</td>\n",
       "    </tr>\n",
       "  </tbody>\n",
       "</table>\n",
       "</div>"
      ],
      "text/plain": [
       "                metro_area  area_land  area_water  GEOID10 mode    month  \\\n",
       "0  Monessen-California, PA  115663317     3688078    58168  Bus  2019-01   \n",
       "1  Monessen-California, PA  115663317     3688078    58168  Bus  2019-02   \n",
       "2  Monessen-California, PA  115663317     3688078    58168  Bus  2019-03   \n",
       "3  Monessen-California, PA  115663317     3688078    58168  Bus  2019-04   \n",
       "4  Monessen-California, PA  115663317     3688078    58168  Bus  2019-05   \n",
       "\n",
       "   trips classification        lat        lon  \n",
       "0  22447       Non-Rail  40.136158 -79.884233  \n",
       "1  23338       Non-Rail  40.136158 -79.884233  \n",
       "2  24577       Non-Rail  40.136158 -79.884233  \n",
       "3  24723       Non-Rail  40.136158 -79.884233  \n",
       "4  23115       Non-Rail  40.136158 -79.884233  "
      ]
     },
     "execution_count": 19,
     "metadata": {},
     "output_type": "execute_result"
    }
   ],
   "source": [
    "#Pull ridership data from Google BigQuery\n",
    "\n",
    "query = f\"\"\"\n",
    "    SELECT metro_area, area_land, area_water, GEOID10, mode, month, trips, classification, lat, lon\n",
    "    FROM `transitpolicyapp.ridership.Ridership`\n",
    "    GROUP BY metro_area, area_land, area_water, GEOID10, mode, month, trips, classification, lat, lon\n",
    "\"\"\"\n",
    "ridership = bqclient.query(query).to_dataframe()\n",
    "ridership.head()"
   ]
  },
  {
   "cell_type": "code",
   "execution_count": 5,
   "metadata": {},
   "outputs": [],
   "source": [
    "#Generate interactive altair ridership chart by mode and month\n",
    "\n",
    "search = \"Philadelphia, PA-NJ-DE-MD\"\n",
    "\n",
    "ridership_s = ridership[ridership[\"metro_area\"] == search]\n",
    "chart_ridership = alt.Chart(ridership_s).mark_area().encode(\n",
    "    x=alt.X('month:T', axis=alt.Axis(title='Month')),\n",
    "    y=alt.Y('trips:Q', axis=alt.Axis(title='Total Transit Trips')),\n",
    "    color=\"mode:N\",\n",
    "    tooltip=['month','mode', 'trips']\n",
    ").interactive()\n",
    "chart_ridership.save('chart_ridership.html')"
   ]
  },
  {
   "cell_type": "code",
   "execution_count": 6,
   "metadata": {
    "scrolled": true
   },
   "outputs": [
    {
     "data": {
      "text/html": [
       "<div>\n",
       "<style scoped>\n",
       "    .dataframe tbody tr th:only-of-type {\n",
       "        vertical-align: middle;\n",
       "    }\n",
       "\n",
       "    .dataframe tbody tr th {\n",
       "        vertical-align: top;\n",
       "    }\n",
       "\n",
       "    .dataframe thead th {\n",
       "        text-align: right;\n",
       "    }\n",
       "</style>\n",
       "<table border=\"1\" class=\"dataframe\">\n",
       "  <thead>\n",
       "    <tr style=\"text-align: right;\">\n",
       "      <th></th>\n",
       "      <th>GEOID10</th>\n",
       "      <th>order</th>\n",
       "      <th>metro_area</th>\n",
       "      <th>fips</th>\n",
       "      <th>date</th>\n",
       "      <th>county</th>\n",
       "      <th>state</th>\n",
       "      <th>cases</th>\n",
       "      <th>deaths</th>\n",
       "    </tr>\n",
       "  </thead>\n",
       "  <tbody>\n",
       "    <tr>\n",
       "      <th>0</th>\n",
       "      <td>10162</td>\n",
       "      <td>1</td>\n",
       "      <td>Bridgeport-Stamford, CT-NY</td>\n",
       "      <td>9001</td>\n",
       "      <td>2020-09-30</td>\n",
       "      <td>Fairfield</td>\n",
       "      <td>Connecticut</td>\n",
       "      <td>20225</td>\n",
       "      <td>1422.0</td>\n",
       "    </tr>\n",
       "    <tr>\n",
       "      <th>1</th>\n",
       "      <td>11350</td>\n",
       "      <td>2</td>\n",
       "      <td>Buffalo, NY</td>\n",
       "      <td>36029</td>\n",
       "      <td>2020-09-30</td>\n",
       "      <td>Erie</td>\n",
       "      <td>New York</td>\n",
       "      <td>11500</td>\n",
       "      <td>625.0</td>\n",
       "    </tr>\n",
       "    <tr>\n",
       "      <th>2</th>\n",
       "      <td>15670</td>\n",
       "      <td>3</td>\n",
       "      <td>Charlotte, NC-SC</td>\n",
       "      <td>37119</td>\n",
       "      <td>2020-09-30</td>\n",
       "      <td>Mecklenburg</td>\n",
       "      <td>North Carolina</td>\n",
       "      <td>28975</td>\n",
       "      <td>360.0</td>\n",
       "    </tr>\n",
       "    <tr>\n",
       "      <th>3</th>\n",
       "      <td>16264</td>\n",
       "      <td>4</td>\n",
       "      <td>Chicago, IL-IN</td>\n",
       "      <td>17031</td>\n",
       "      <td>2020-09-30</td>\n",
       "      <td>Cook</td>\n",
       "      <td>Illinois</td>\n",
       "      <td>145462</td>\n",
       "      <td>5225.0</td>\n",
       "    </tr>\n",
       "    <tr>\n",
       "      <th>4</th>\n",
       "      <td>16885</td>\n",
       "      <td>5</td>\n",
       "      <td>Cincinnati, OH-KY-IN</td>\n",
       "      <td>39061</td>\n",
       "      <td>2020-09-30</td>\n",
       "      <td>Hamilton</td>\n",
       "      <td>Ohio</td>\n",
       "      <td>13426</td>\n",
       "      <td>320.0</td>\n",
       "    </tr>\n",
       "  </tbody>\n",
       "</table>\n",
       "</div>"
      ],
      "text/plain": [
       "   GEOID10  order                  metro_area   fips       date       county  \\\n",
       "0    10162      1  Bridgeport-Stamford, CT-NY   9001 2020-09-30    Fairfield   \n",
       "1    11350      2                 Buffalo, NY  36029 2020-09-30         Erie   \n",
       "2    15670      3            Charlotte, NC-SC  37119 2020-09-30  Mecklenburg   \n",
       "3    16264      4              Chicago, IL-IN  17031 2020-09-30         Cook   \n",
       "4    16885      5        Cincinnati, OH-KY-IN  39061 2020-09-30     Hamilton   \n",
       "\n",
       "            state   cases  deaths  \n",
       "0     Connecticut   20225  1422.0  \n",
       "1        New York   11500   625.0  \n",
       "2  North Carolina   28975   360.0  \n",
       "3        Illinois  145462  5225.0  \n",
       "4            Ohio   13426   320.0  "
      ]
     },
     "execution_count": 6,
     "metadata": {},
     "output_type": "execute_result"
    }
   ],
   "source": [
    "top50_c = top50.merge(covid_l, on=\"fips\", how='left')\n",
    "top50_c.head()"
   ]
  },
  {
   "cell_type": "code",
   "execution_count": 41,
   "metadata": {},
   "outputs": [
    {
     "data": {
      "text/html": [
       "<div>\n",
       "<style scoped>\n",
       "    .dataframe tbody tr th:only-of-type {\n",
       "        vertical-align: middle;\n",
       "    }\n",
       "\n",
       "    .dataframe tbody tr th {\n",
       "        vertical-align: top;\n",
       "    }\n",
       "\n",
       "    .dataframe thead th {\n",
       "        text-align: right;\n",
       "    }\n",
       "</style>\n",
       "<table border=\"1\" class=\"dataframe\">\n",
       "  <thead>\n",
       "    <tr style=\"text-align: right;\">\n",
       "      <th></th>\n",
       "      <th>GEOID10</th>\n",
       "      <th>metro_area</th>\n",
       "      <th>trips</th>\n",
       "      <th>lat</th>\n",
       "      <th>lon</th>\n",
       "    </tr>\n",
       "  </thead>\n",
       "  <tbody>\n",
       "    <tr>\n",
       "      <th>0</th>\n",
       "      <td>10162</td>\n",
       "      <td>Bridgeport-Stamford, CT-NY</td>\n",
       "      <td>561267</td>\n",
       "      <td>41.235154</td>\n",
       "      <td>-73.309377</td>\n",
       "    </tr>\n",
       "    <tr>\n",
       "      <th>1</th>\n",
       "      <td>10972</td>\n",
       "      <td>Brownsville, TX</td>\n",
       "      <td>41808</td>\n",
       "      <td>25.966922</td>\n",
       "      <td>-97.474430</td>\n",
       "    </tr>\n",
       "    <tr>\n",
       "      <th>2</th>\n",
       "      <td>11350</td>\n",
       "      <td>Buffalo, NY</td>\n",
       "      <td>1031785</td>\n",
       "      <td>42.926628</td>\n",
       "      <td>-78.823853</td>\n",
       "    </tr>\n",
       "    <tr>\n",
       "      <th>3</th>\n",
       "      <td>11755</td>\n",
       "      <td>Burlington, VT</td>\n",
       "      <td>110494</td>\n",
       "      <td>44.480976</td>\n",
       "      <td>-73.161863</td>\n",
       "    </tr>\n",
       "    <tr>\n",
       "      <th>4</th>\n",
       "      <td>13375</td>\n",
       "      <td>Canton, OH</td>\n",
       "      <td>108702</td>\n",
       "      <td>40.828596</td>\n",
       "      <td>-81.430242</td>\n",
       "    </tr>\n",
       "  </tbody>\n",
       "</table>\n",
       "</div>"
      ],
      "text/plain": [
       "   GEOID10                  metro_area    trips        lat        lon\n",
       "0    10162  Bridgeport-Stamford, CT-NY   561267  41.235154 -73.309377\n",
       "1    10972             Brownsville, TX    41808  25.966922 -97.474430\n",
       "2    11350                 Buffalo, NY  1031785  42.926628 -78.823853\n",
       "3    11755              Burlington, VT   110494  44.480976 -73.161863\n",
       "4    13375                  Canton, OH   108702  40.828596 -81.430242"
      ]
     },
     "execution_count": 41,
     "metadata": {},
     "output_type": "execute_result"
    }
   ],
   "source": [
    "select_date = \"2020-09\"\n",
    "ridership_agg = ridership[ridership[\"month\"] == select_date]\n",
    "ridership_agg = ridership_agg.groupby(['GEOID10', 'metro_area'], as_index=False).agg({'trips': 'sum', 'lat': 'min', 'lon': 'min'})\n",
    "ridership_agg.head()"
   ]
  },
  {
   "cell_type": "code",
   "execution_count": 8,
   "metadata": {},
   "outputs": [
    {
     "data": {
      "text/html": [
       "<div>\n",
       "<style scoped>\n",
       "    .dataframe tbody tr th:only-of-type {\n",
       "        vertical-align: middle;\n",
       "    }\n",
       "\n",
       "    .dataframe tbody tr th {\n",
       "        vertical-align: top;\n",
       "    }\n",
       "\n",
       "    .dataframe thead th {\n",
       "        text-align: right;\n",
       "    }\n",
       "</style>\n",
       "<table border=\"1\" class=\"dataframe\">\n",
       "  <thead>\n",
       "    <tr style=\"text-align: right;\">\n",
       "      <th></th>\n",
       "      <th>GEOID10</th>\n",
       "      <th>order</th>\n",
       "      <th>metro_area</th>\n",
       "      <th>fips</th>\n",
       "      <th>date</th>\n",
       "      <th>county</th>\n",
       "      <th>state</th>\n",
       "      <th>cases</th>\n",
       "      <th>deaths</th>\n",
       "      <th>trips</th>\n",
       "    </tr>\n",
       "  </thead>\n",
       "  <tbody>\n",
       "    <tr>\n",
       "      <th>0</th>\n",
       "      <td>10162</td>\n",
       "      <td>1</td>\n",
       "      <td>Bridgeport-Stamford, CT-NY</td>\n",
       "      <td>9001</td>\n",
       "      <td>2020-09-30</td>\n",
       "      <td>Fairfield</td>\n",
       "      <td>Connecticut</td>\n",
       "      <td>20225</td>\n",
       "      <td>1422.0</td>\n",
       "      <td>561267</td>\n",
       "    </tr>\n",
       "    <tr>\n",
       "      <th>1</th>\n",
       "      <td>11350</td>\n",
       "      <td>2</td>\n",
       "      <td>Buffalo, NY</td>\n",
       "      <td>36029</td>\n",
       "      <td>2020-09-30</td>\n",
       "      <td>Erie</td>\n",
       "      <td>New York</td>\n",
       "      <td>11500</td>\n",
       "      <td>625.0</td>\n",
       "      <td>1031785</td>\n",
       "    </tr>\n",
       "    <tr>\n",
       "      <th>2</th>\n",
       "      <td>15670</td>\n",
       "      <td>3</td>\n",
       "      <td>Charlotte, NC-SC</td>\n",
       "      <td>37119</td>\n",
       "      <td>2020-09-30</td>\n",
       "      <td>Mecklenburg</td>\n",
       "      <td>North Carolina</td>\n",
       "      <td>28975</td>\n",
       "      <td>360.0</td>\n",
       "      <td>750275</td>\n",
       "    </tr>\n",
       "    <tr>\n",
       "      <th>3</th>\n",
       "      <td>16264</td>\n",
       "      <td>4</td>\n",
       "      <td>Chicago, IL-IN</td>\n",
       "      <td>17031</td>\n",
       "      <td>2020-09-30</td>\n",
       "      <td>Cook</td>\n",
       "      <td>Illinois</td>\n",
       "      <td>145462</td>\n",
       "      <td>5225.0</td>\n",
       "      <td>15097626</td>\n",
       "    </tr>\n",
       "    <tr>\n",
       "      <th>4</th>\n",
       "      <td>16885</td>\n",
       "      <td>5</td>\n",
       "      <td>Cincinnati, OH-KY-IN</td>\n",
       "      <td>39061</td>\n",
       "      <td>2020-09-30</td>\n",
       "      <td>Hamilton</td>\n",
       "      <td>Ohio</td>\n",
       "      <td>13426</td>\n",
       "      <td>320.0</td>\n",
       "      <td>640183</td>\n",
       "    </tr>\n",
       "  </tbody>\n",
       "</table>\n",
       "</div>"
      ],
      "text/plain": [
       "   GEOID10  order                  metro_area   fips       date       county  \\\n",
       "0    10162      1  Bridgeport-Stamford, CT-NY   9001 2020-09-30    Fairfield   \n",
       "1    11350      2                 Buffalo, NY  36029 2020-09-30         Erie   \n",
       "2    15670      3            Charlotte, NC-SC  37119 2020-09-30  Mecklenburg   \n",
       "3    16264      4              Chicago, IL-IN  17031 2020-09-30         Cook   \n",
       "4    16885      5        Cincinnati, OH-KY-IN  39061 2020-09-30     Hamilton   \n",
       "\n",
       "            state   cases  deaths     trips  \n",
       "0     Connecticut   20225  1422.0    561267  \n",
       "1        New York   11500   625.0   1031785  \n",
       "2  North Carolina   28975   360.0    750275  \n",
       "3        Illinois  145462  5225.0  15097626  \n",
       "4            Ohio   13426   320.0    640183  "
      ]
     },
     "execution_count": 8,
     "metadata": {},
     "output_type": "execute_result"
    }
   ],
   "source": [
    "ridership_agg = ridership_agg[['GEOID10','trips']]\n",
    "top50_c = top50_c.merge(ridership_agg, on=\"GEOID10\", how='left')\n",
    "top50_c.head()"
   ]
  },
  {
   "cell_type": "code",
   "execution_count": 9,
   "metadata": {},
   "outputs": [],
   "source": [
    "#Plot relationship between covid cases and transit trips\n",
    "\n",
    "chart_scatter = alt.Chart(top50_c).mark_circle(size=200).encode(\n",
    "    x=alt.X('cases', axis=alt.Axis(title='COVID-19 Cases (Cumulative)')),\n",
    "    y=alt.Y('trips', axis=alt.Axis(title='Total Transit Trips in September 2020')),\n",
    "    color=alt.Color('state', legend=None),\n",
    "    tooltip=['metro_area', 'cases', 'deaths', 'trips']\n",
    ").interactive()\n",
    "chart_scatter.save('scatter.html')"
   ]
  },
  {
   "cell_type": "code",
   "execution_count": 10,
   "metadata": {},
   "outputs": [
    {
     "data": {
      "text/html": [
       "<div>\n",
       "<style scoped>\n",
       "    .dataframe tbody tr th:only-of-type {\n",
       "        vertical-align: middle;\n",
       "    }\n",
       "\n",
       "    .dataframe tbody tr th {\n",
       "        vertical-align: top;\n",
       "    }\n",
       "\n",
       "    .dataframe thead th {\n",
       "        text-align: right;\n",
       "    }\n",
       "</style>\n",
       "<table border=\"1\" class=\"dataframe\">\n",
       "  <thead>\n",
       "    <tr style=\"text-align: right;\">\n",
       "      <th></th>\n",
       "      <th>date</th>\n",
       "      <th>county</th>\n",
       "      <th>state</th>\n",
       "      <th>fips</th>\n",
       "      <th>cases</th>\n",
       "      <th>deaths</th>\n",
       "      <th>new_cases</th>\n",
       "      <th>new_deaths</th>\n",
       "      <th>cases_avg</th>\n",
       "      <th>deaths_avg</th>\n",
       "      <th>DateTime</th>\n",
       "    </tr>\n",
       "  </thead>\n",
       "  <tbody>\n",
       "    <tr>\n",
       "      <th>49</th>\n",
       "      <td>2020-02-02</td>\n",
       "      <td>San Francisco</td>\n",
       "      <td>California</td>\n",
       "      <td>6075</td>\n",
       "      <td>2</td>\n",
       "      <td>0.0</td>\n",
       "      <td>NaN</td>\n",
       "      <td>NaN</td>\n",
       "      <td>NaN</td>\n",
       "      <td>NaN</td>\n",
       "      <td>2020-02-02</td>\n",
       "    </tr>\n",
       "    <tr>\n",
       "      <th>57</th>\n",
       "      <td>2020-02-03</td>\n",
       "      <td>San Francisco</td>\n",
       "      <td>California</td>\n",
       "      <td>6075</td>\n",
       "      <td>2</td>\n",
       "      <td>0.0</td>\n",
       "      <td>0.0</td>\n",
       "      <td>0.0</td>\n",
       "      <td>NaN</td>\n",
       "      <td>NaN</td>\n",
       "      <td>2020-02-03</td>\n",
       "    </tr>\n",
       "    <tr>\n",
       "      <th>65</th>\n",
       "      <td>2020-02-04</td>\n",
       "      <td>San Francisco</td>\n",
       "      <td>California</td>\n",
       "      <td>6075</td>\n",
       "      <td>2</td>\n",
       "      <td>0.0</td>\n",
       "      <td>0.0</td>\n",
       "      <td>0.0</td>\n",
       "      <td>NaN</td>\n",
       "      <td>NaN</td>\n",
       "      <td>2020-02-04</td>\n",
       "    </tr>\n",
       "    <tr>\n",
       "      <th>73</th>\n",
       "      <td>2020-02-05</td>\n",
       "      <td>San Francisco</td>\n",
       "      <td>California</td>\n",
       "      <td>6075</td>\n",
       "      <td>2</td>\n",
       "      <td>0.0</td>\n",
       "      <td>0.0</td>\n",
       "      <td>0.0</td>\n",
       "      <td>NaN</td>\n",
       "      <td>NaN</td>\n",
       "      <td>2020-02-05</td>\n",
       "    </tr>\n",
       "    <tr>\n",
       "      <th>82</th>\n",
       "      <td>2020-02-06</td>\n",
       "      <td>San Francisco</td>\n",
       "      <td>California</td>\n",
       "      <td>6075</td>\n",
       "      <td>2</td>\n",
       "      <td>0.0</td>\n",
       "      <td>0.0</td>\n",
       "      <td>0.0</td>\n",
       "      <td>NaN</td>\n",
       "      <td>NaN</td>\n",
       "      <td>2020-02-06</td>\n",
       "    </tr>\n",
       "    <tr>\n",
       "      <th>...</th>\n",
       "      <td>...</td>\n",
       "      <td>...</td>\n",
       "      <td>...</td>\n",
       "      <td>...</td>\n",
       "      <td>...</td>\n",
       "      <td>...</td>\n",
       "      <td>...</td>\n",
       "      <td>...</td>\n",
       "      <td>...</td>\n",
       "      <td>...</td>\n",
       "      <td>...</td>\n",
       "    </tr>\n",
       "    <tr>\n",
       "      <th>761167</th>\n",
       "      <td>2020-11-26</td>\n",
       "      <td>San Francisco</td>\n",
       "      <td>California</td>\n",
       "      <td>6075</td>\n",
       "      <td>15056</td>\n",
       "      <td>160.0</td>\n",
       "      <td>179.0</td>\n",
       "      <td>0.0</td>\n",
       "      <td>142.285714</td>\n",
       "      <td>0.571429</td>\n",
       "      <td>2020-11-26</td>\n",
       "    </tr>\n",
       "    <tr>\n",
       "      <th>764385</th>\n",
       "      <td>2020-11-27</td>\n",
       "      <td>San Francisco</td>\n",
       "      <td>California</td>\n",
       "      <td>6075</td>\n",
       "      <td>15159</td>\n",
       "      <td>160.0</td>\n",
       "      <td>103.0</td>\n",
       "      <td>0.0</td>\n",
       "      <td>129.285714</td>\n",
       "      <td>0.571429</td>\n",
       "      <td>2020-11-27</td>\n",
       "    </tr>\n",
       "    <tr>\n",
       "      <th>767603</th>\n",
       "      <td>2020-11-28</td>\n",
       "      <td>San Francisco</td>\n",
       "      <td>California</td>\n",
       "      <td>6075</td>\n",
       "      <td>15380</td>\n",
       "      <td>160.0</td>\n",
       "      <td>221.0</td>\n",
       "      <td>0.0</td>\n",
       "      <td>150.000000</td>\n",
       "      <td>0.285714</td>\n",
       "      <td>2020-11-28</td>\n",
       "    </tr>\n",
       "    <tr>\n",
       "      <th>770821</th>\n",
       "      <td>2020-11-29</td>\n",
       "      <td>San Francisco</td>\n",
       "      <td>California</td>\n",
       "      <td>6075</td>\n",
       "      <td>15453</td>\n",
       "      <td>160.0</td>\n",
       "      <td>73.0</td>\n",
       "      <td>0.0</td>\n",
       "      <td>143.571429</td>\n",
       "      <td>0.285714</td>\n",
       "      <td>2020-11-29</td>\n",
       "    </tr>\n",
       "    <tr>\n",
       "      <th>774039</th>\n",
       "      <td>2020-11-30</td>\n",
       "      <td>San Francisco</td>\n",
       "      <td>California</td>\n",
       "      <td>6075</td>\n",
       "      <td>15574</td>\n",
       "      <td>160.0</td>\n",
       "      <td>121.0</td>\n",
       "      <td>0.0</td>\n",
       "      <td>147.000000</td>\n",
       "      <td>0.285714</td>\n",
       "      <td>2020-11-30</td>\n",
       "    </tr>\n",
       "  </tbody>\n",
       "</table>\n",
       "<p>303 rows × 11 columns</p>\n",
       "</div>"
      ],
      "text/plain": [
       "             date         county       state  fips  cases  deaths  new_cases  \\\n",
       "49     2020-02-02  San Francisco  California  6075      2     0.0        NaN   \n",
       "57     2020-02-03  San Francisco  California  6075      2     0.0        0.0   \n",
       "65     2020-02-04  San Francisco  California  6075      2     0.0        0.0   \n",
       "73     2020-02-05  San Francisco  California  6075      2     0.0        0.0   \n",
       "82     2020-02-06  San Francisco  California  6075      2     0.0        0.0   \n",
       "...           ...            ...         ...   ...    ...     ...        ...   \n",
       "761167 2020-11-26  San Francisco  California  6075  15056   160.0      179.0   \n",
       "764385 2020-11-27  San Francisco  California  6075  15159   160.0      103.0   \n",
       "767603 2020-11-28  San Francisco  California  6075  15380   160.0      221.0   \n",
       "770821 2020-11-29  San Francisco  California  6075  15453   160.0       73.0   \n",
       "774039 2020-11-30  San Francisco  California  6075  15574   160.0      121.0   \n",
       "\n",
       "        new_deaths   cases_avg  deaths_avg   DateTime  \n",
       "49             NaN         NaN         NaN 2020-02-02  \n",
       "57             0.0         NaN         NaN 2020-02-03  \n",
       "65             0.0         NaN         NaN 2020-02-04  \n",
       "73             0.0         NaN         NaN 2020-02-05  \n",
       "82             0.0         NaN         NaN 2020-02-06  \n",
       "...            ...         ...         ...        ...  \n",
       "761167         0.0  142.285714    0.571429 2020-11-26  \n",
       "764385         0.0  129.285714    0.571429 2020-11-27  \n",
       "767603         0.0  150.000000    0.285714 2020-11-28  \n",
       "770821         0.0  143.571429    0.285714 2020-11-29  \n",
       "774039         0.0  147.000000    0.285714 2020-11-30  \n",
       "\n",
       "[303 rows x 11 columns]"
      ]
     },
     "execution_count": 10,
     "metadata": {},
     "output_type": "execute_result"
    }
   ],
   "source": [
    "#Query covid data for a sample city\n",
    "\n",
    "search_county = \"San Francisco\"\n",
    "covid_s = covid[covid[\"county\"] == search_county]\n",
    "covid_s['new_cases'] = covid_s['cases'].diff()\n",
    "covid_s['new_deaths'] = covid_s['deaths'].diff()\n",
    "covid_s['cases_avg'] = covid_s.iloc[:,6].rolling(window=7).mean()\n",
    "covid_s['deaths_avg'] = covid_s.iloc[:,7].rolling(window=7).mean()\n",
    "covid_s['DateTime'] = pd.to_datetime(covid_s['date'])\n",
    "covid_s"
   ]
  },
  {
   "cell_type": "code",
   "execution_count": 11,
   "metadata": {
    "scrolled": true
   },
   "outputs": [],
   "source": [
    "#Plot covid cases with altair\n",
    "\n",
    "chart_cases = alt.Chart(covid_s).mark_bar().encode(\n",
    "    x=alt.X('date:T', axis=alt.Axis(title='Month')),\n",
    "    y=alt.Y('cases_avg:Q', axis=alt.Axis(title='New COVID-19 Cases Reported')),\n",
    ")\n",
    "chart_cases.save('chart_cases.html')"
   ]
  },
  {
   "cell_type": "code",
   "execution_count": 12,
   "metadata": {},
   "outputs": [],
   "source": [
    "#Plot covid deaths with altair\n",
    "\n",
    "chart_deaths = alt.Chart(covid_s).mark_bar().encode(\n",
    "    x=alt.X('date:T', axis=alt.Axis(title='Month')),\n",
    "    y=alt.Y('deaths_avg:Q', axis=alt.Axis(title='New COVID-19 Deaths Reported')),\n",
    "    color=alt.value('orange'),\n",
    ")\n",
    "chart_deaths.save('chart_deaths.html')"
   ]
  },
  {
   "cell_type": "code",
   "execution_count": 42,
   "metadata": {},
   "outputs": [
    {
     "data": {
      "application/vnd.plotly.v1+json": {
       "config": {
        "plotlyServerURL": "https://plot.ly"
       },
       "data": [
        {
         "customdata": [
          [
           561267
          ],
          [
           41808
          ],
          [
           1031785
          ],
          [
           110494
          ],
          [
           108702
          ],
          [
           128502
          ],
          [
           40187
          ],
          [
           50500
          ],
          [
           266693
          ],
          [
           78426
          ],
          [
           154477
          ],
          [
           750275
          ],
          [
           12677
          ],
          [
           129994
          ],
          [
           15097626
          ],
          [
           27657
          ],
          [
           640183
          ],
          [
           1279547
          ],
          [
           19508
          ],
          [
           176232
          ],
          [
           40977
          ],
          [
           188909
          ],
          [
           740454
          ],
          [
           138820
          ],
          [
           10971
          ],
          [
           202658
          ],
          [
           3211568
          ],
          [
           36236
          ],
          [
           4363
          ],
          [
           145478
          ],
          [
           27578
          ],
          [
           490748
          ],
          [
           73457
          ],
          [
           33374
          ],
          [
           80842
          ],
          [
           3399923
          ],
          [
           151464
          ],
          [
           1081022
          ],
          [
           19157
          ],
          [
           158049
          ],
          [
           482589
          ],
          [
           15911
          ],
          [
           40565
          ],
          [
           20708
          ],
          [
           5415
          ],
          [
           38138
          ],
          [
           399099
          ],
          [
           76731
          ],
          [
           335825
          ],
          [
           57620
          ],
          [
           24953
          ],
          [
           116911
          ],
          [
           150800
          ],
          [
           110311
          ],
          [
           157846
          ],
          [
           4202
          ],
          [
           118323
          ],
          [
           6757
          ],
          [
           91005
          ],
          [
           33636
          ],
          [
           443645
          ],
          [
           211178
          ],
          [
           13719
          ],
          [
           365873
          ],
          [
           18766
          ],
          [
           33723
          ],
          [
           208778
          ],
          [
           60605
          ],
          [
           34134
          ],
          [
           397882
          ],
          [
           95876
          ],
          [
           42138
          ],
          [
           1036712
          ],
          [
           11475
          ],
          [
           5998
          ],
          [
           3588165
          ],
          [
           54246
          ],
          [
           43971
          ],
          [
           487679
          ],
          [
           173091
          ],
          [
           183524
          ],
          [
           91503
          ],
          [
           24566
          ],
          [
           39972
          ],
          [
           27226
          ],
          [
           488569
          ],
          [
           8250
          ],
          [
           80011
          ],
          [
           63030
          ],
          [
           147913
          ],
          [
           46119
          ],
          [
           94195
          ],
          [
           112693
          ],
          [
           21757
          ],
          [
           24643
          ],
          [
           201971
          ],
          [
           21593
          ],
          [
           45307
          ],
          [
           172003
          ],
          [
           43297
          ],
          [
           245976
          ],
          [
           65255
          ],
          [
           213502
          ],
          [
           77844
          ],
          [
           7658
          ],
          [
           2604284
          ],
          [
           61038
          ],
          [
           18467
          ],
          [
           22244
          ],
          [
           41177
          ],
          [
           2001
          ],
          [
           247274
          ],
          [
           163051
          ],
          [
           104666
          ],
          [
           45084
          ],
          [
           16126
          ],
          [
           22129296
          ],
          [
           409213
          ],
          [
           95815
          ],
          [
           26643
          ],
          [
           18154
          ],
          [
           183687
          ],
          [
           43022
          ],
          [
           234750
          ],
          [
           26693
          ],
          [
           5212093
          ],
          [
           1228113
          ],
          [
           2603358
          ],
          [
           66379
          ],
          [
           48200
          ],
          [
           117290
          ],
          [
           12946
          ],
          [
           13460
          ],
          [
           31462
          ],
          [
           0
          ],
          [
           26200
          ],
          [
           73125
          ],
          [
           25572
          ],
          [
           18156
          ],
          [
           387617
          ],
          [
           4155
          ],
          [
           145888
          ],
          [
           554093
          ],
          [
           896766
          ],
          [
           138284779
          ],
          [
           4959
          ],
          [
           65588
          ],
          [
           229262
          ],
          [
           132069
          ],
          [
           9224
          ],
          [
           1110283
          ],
          [
           36156
          ],
          [
           7583
          ],
          [
           175713
          ],
          [
           134941
          ],
          [
           188355
          ],
          [
           28041
          ],
          [
           73768
          ],
          [
           169161
          ],
          [
           10674
          ],
          [
           9554300
          ],
          [
           2321868
          ],
          [
           2016959
          ],
          [
           28550
          ],
          [
           53714
          ],
          [
           88140
          ],
          [
           3615960
          ],
          [
           6883
          ],
          [
           10037
          ],
          [
           50296
          ],
          [
           731139
          ],
          [
           40598
          ],
          [
           61395
          ],
          [
           353908
          ],
          [
           31081
          ],
          [
           496582
          ],
          [
           706959
          ],
          [
           607905
          ],
          [
           90222
          ],
          [
           47736
          ],
          [
           643248
          ],
          [
           78512
          ],
          [
           6655
          ],
          [
           736774
          ],
          [
           3383
          ],
          [
           67198
          ],
          [
           1620096
          ],
          [
           133193
          ],
          [
           15493
          ],
          [
           1639254
          ],
          [
           21305
          ],
          [
           1989833
          ],
          [
           3711385
          ],
          [
           8993777
          ],
          [
           938610
          ],
          [
           209025
          ],
          [
           57299
          ],
          [
           111959
          ],
          [
           187264
          ],
          [
           117100
          ],
          [
           65729
          ],
          [
           2713
          ],
          [
           19093
          ],
          [
           102878
          ],
          [
           252063
          ],
          [
           148193
          ],
          [
           122210
          ],
          [
           112564
          ],
          [
           7111138
          ],
          [
           108637
          ],
          [
           3943
          ],
          [
           82706
          ],
          [
           45770
          ],
          [
           42629
          ],
          [
           69926
          ],
          [
           17057
          ],
          [
           7075
          ],
          [
           415338
          ],
          [
           97264
          ],
          [
           343129
          ],
          [
           65062
          ],
          [
           79219
          ],
          [
           161990
          ],
          [
           6906
          ],
          [
           364472
          ],
          [
           44749
          ],
          [
           1309792
          ],
          [
           13990
          ],
          [
           92177
          ],
          [
           77212
          ],
          [
           838315
          ],
          [
           124107
          ],
          [
           12615
          ],
          [
           12063
          ],
          [
           1932336
          ],
          [
           34494
          ],
          [
           22900
          ],
          [
           91789
          ],
          [
           3577
          ],
          [
           572147
          ],
          [
           71074
          ],
          [
           55159
          ],
          [
           37033
          ],
          [
           9393834
          ],
          [
           156474
          ],
          [
           61409
          ],
          [
           23492
          ],
          [
           65847
          ],
          [
           102426
          ],
          [
           365
          ],
          [
           53426
          ],
          [
           170802
          ],
          [
           192957
          ],
          [
           40402
          ],
          [
           111922
          ],
          [
           81956
          ],
          [
           28724
          ],
          [
           22798
          ]
         ],
         "hovertemplate": "<b>%{hovertext}</b><br><br>trips=%{customdata[0]}<br>lat=%{lat}<br>lon=%{lon}<extra></extra>",
         "hovertext": [
          "Bridgeport-Stamford, CT-NY",
          "Brownsville, TX",
          "Buffalo, NY",
          "Burlington, VT",
          "Canton, OH",
          "Cape Coral, FL",
          "Carbondale, IL",
          "Cedar Rapids, IA",
          "Champaign, IL",
          "Charleston, WV",
          "Charleston-North Charleston, SC",
          "Charlotte, NC-SC",
          "Charlottesville, VA",
          "Chattanooga, TN-GA",
          "Chicago, IL-IN",
          "Chico, CA",
          "Cincinnati, OH-KY-IN",
          "Cleveland, OH",
          "College Station-Bryan, TX",
          "Colorado Springs, CO",
          "Columbia, MO",
          "Columbia, SC",
          "Columbus, OH",
          "Concord, CA",
          "Conroe-The Woodlands, TX",
          "Corpus Christi, TX",
          "Dallas-Fort Worth-Arlington, TX",
          "Danbury, CT-NY",
          "Daphne-Fairhope, AL",
          "Davenport, IA-IL",
          "Davis, CA",
          "Dayton, OH",
          "Decatur, IL",
          "DeKalb, IL",
          "Denton-Lewisville, TX",
          "Denver-Aurora, CO",
          "Des Moines, IA",
          "Detroit, MI",
          "Dover-Rochester, NH-ME",
          "Duluth, MN-WI",
          "Durham, NC",
          "East Stroudsburg, PA-NJ",
          "Eau Claire, WI",
          "El Centro-Calexico, CA",
          "Elizabethtown-Radcliff, KY",
          "Elkhart, IN-MI",
          "El Paso, TX-NM",
          "Erie, PA",
          "Eugene, OR",
          "Evansville, IN-KY",
          "Fairfield, CA",
          "Fargo, ND-MN",
          "Fayetteville, NC",
          "Flagstaff, AZ",
          "Flint, MI",
          "Florence, AL",
          "Fort Collins, CO",
          "Fort Walton Beach-Navarre-Wright, FL",
          "Fort Wayne, IN",
          "Frederick, MD",
          "Fresno, CA",
          "Gainesville, FL",
          "Grand Forks, ND-MN",
          "Grand Rapids, MI",
          "Great Falls, MT",
          "Green Bay, WI",
          "Greensboro, NC",
          "Greenville, SC",
          "Gulfport, MS",
          "Hanford, CA",
          "Harrisburg, PA",
          "Harrisonburg, VA",
          "Hartford, CT",
          "Hickory, NC",
          "Holland, MI",
          "Houston, TX",
          "Huntington, WV-KY-OH",
          "Huntsville, AL",
          "Indianapolis, IN",
          "Indio-Cathedral City, CA",
          "Iowa City, IA",
          "Ithaca, NY",
          "Jackson, MI",
          "Jackson, MS",
          "Jackson, TN",
          "Jacksonville, FL",
          "Johnson City, TN",
          "Johnstown, PA",
          "Kahului, HI",
          "Kalamazoo, MI",
          "Kankakee, IL",
          "Kansas City, MO-KS",
          "Kennewick-Pasco, WA",
          "Kenosha, WI-IL",
          "Killeen, TX",
          "Knoxville, TN",
          "Kokomo, IN",
          "La Crosse, WI-MN",
          "Lafayette, IN",
          "Lakeland, FL",
          "Lancaster, PA",
          "Lancaster-Palmdale, CA",
          "Lansing, MI",
          "Laredo, TX",
          "Las Cruces, NM",
          "Las Vegas-Henderson, NV",
          "Lawrence, KS",
          "Lebanon, PA",
          "Leesburg-Eustis-Tavares, FL",
          "Leominster-Fitchburg, MA",
          "Lewiston, ME",
          "Lexington-Fayette, KY",
          "Lincoln, NE",
          "Little Rock, AR",
          "Logan, UT",
          "Longview, WA-OR",
          "Los Angeles-Long Beach-Anaheim, CA",
          "Louisville/Jefferson County, KY-IN",
          "Lubbock, TX",
          "Lynchburg, VA",
          "McAllen, TX",
          "Madison, WI",
          "Medford, OR",
          "Memphis, TN-MS-AR",
          "Merced, CA",
          "Miami, FL",
          "Milwaukee, WI",
          "Minneapolis-St. Paul, MN-WI",
          "Missoula, MT",
          "Mobile, AL",
          "Modesto, CA",
          "Monessen-California, PA",
          "Monroe, MI",
          "Montgomery, AL",
          "Morgantown, WV",
          "Mount Vernon, WA",
          "Muncie, IN",
          "Napa, CA",
          "Nashua, NH-MA",
          "Nashville-Davidson, TN",
          "Newark, OH",
          "New Bedford, MA",
          "New Haven, CT",
          "New Orleans, LA",
          "New York-Newark, NY-NJ-CT",
          "North Port-Port Charlotte, FL",
          "Norwich-New London, CT-RI",
          "Oklahoma City, OK",
          "Olympia-Lacey, WA",
          "Omaha, NE-IA",
          "Orlando, FL",
          "Oshkosh, WI",
          "Owensboro, KY",
          "Oxnard, CA",
          "Palm Bay-Melbourne, FL",
          "Palm Coast-Daytona Beach-Port Orange, FL",
          "Panama City, FL",
          "Pensacola, FL-AL",
          "Peoria, IL",
          "Petaluma, CA",
          "Philadelphia, PA-NJ-DE-MD",
          "Phoenix-Mesa, AZ",
          "Pittsburgh, PA",
          "Pittsfield, MA",
          "Port Huron, MI",
          "Portland, ME",
          "Portland, OR-WA",
          "Port St. Lucie, FL",
          "Pottstown, PA",
          "Poughkeepsie-Newburgh, NY-NJ",
          "Providence, RI-MA",
          "Pueblo, CO",
          "Racine, WI",
          "Raleigh, NC",
          "Redding, CA",
          "Reno, NV-CA",
          "Richmond, VA",
          "Riverside-San Bernardino, CA",
          "Roanoke, VA",
          "Rochester, MN",
          "Rochester, NY",
          "Rockford, IL",
          "Rome, GA",
          "Sacramento, CA",
          "Saginaw, MI",
          "St. Cloud, MN",
          "St. Louis, MO-IL",
          "Salem, OR",
          "Salisbury, MD-DE",
          "Salt Lake City-West Valley City, UT",
          "San Angelo, TX",
          "San Antonio, TX",
          "San Diego, CA",
          "San Francisco-Oakland, CA",
          "San Jose, CA",
          "San Juan, PR",
          "San Luis Obispo, CA",
          "San Marcos, TX",
          "Santa Barbara, CA",
          "Santa Clarita, CA",
          "Santa Cruz, CA",
          "Santa Fe, NM",
          "Santa Maria, CA",
          "Santa Rosa, CA",
          "Sarasota-Bradenton, FL",
          "Savannah, GA",
          "Scranton, PA",
          "Seaside-Monterey, CA",
          "Seattle, WA",
          "Sebastian-Vero Beach South-Florida Ridge, FL",
          "Sherman, TX",
          "Shreveport, LA",
          "Sioux City, IA-NE-SD",
          "Sioux Falls, SD",
          "South Bend, IN-MI",
          "South Lake Tahoe, CA-NV",
          "Spartanburg, SC",
          "Spokane, WA",
          "Springfield, IL",
          "Springfield, MA-CT",
          "Springfield, MO",
          "State College, PA",
          "Stockton, CA",
          "Sumter, SC",
          "Syracuse, NY",
          "Tallahassee, FL",
          "Tampa-St. Petersburg, FL",
          "Terre Haute, IN",
          "Toledo, OH-MI",
          "Topeka, KS",
          "Tucson, AZ",
          "Tulsa, OK",
          "Turlock, CA",
          "Uniontown-Connellsville, PA",
          "Urban Honolulu, HI",
          "Vallejo, CA",
          "Victoria, TX",
          "Victorville-Hesperia, CA",
          "Vineland, NJ",
          "Virginia Beach, VA",
          "Visalia, CA",
          "Waco, TX",
          "Waldorf, MD",
          "Washington, DC-VA-MD",
          "Waterbury, CT",
          "Wenatchee, WA",
          "Wheeling, WV-OH",
          "Wichita, KS",
          "Williamsburg, VA",
          "Williamsport, PA",
          "Wilmington, NC",
          "Winston-Salem, NC",
          "Worcester, MA-CT",
          "Yakima, WA",
          "York, PA",
          "Youngstown, OH-PA",
          "Yuba City, CA",
          "Yuma, AZ-CA"
         ],
         "lat": [
          41.23515409,
          25.96692188,
          42.92662801,
          44.48097573,
          40.82859609,
          26.59922075,
          37.74868526,
          41.99873923,
          40.09879724,
          38.37627203,
          32.90225719,
          35.25060655,
          38.05776352,
          35.05846413,
          41.82748423,
          39.75071355,
          39.18644469,
          41.44270581,
          30.62641971,
          38.87183576,
          38.95524244,
          34.03614411,
          40.0213739,
          37.85060906,
          30.23165999,
          27.74681965,
          32.81499268,
          41.45549354,
          30.60832555,
          41.5179778,
          38.55395206,
          39.75512973,
          39.84525708,
          41.95168525,
          33.09537415,
          39.71043885,
          41.61890311,
          42.49001729,
          43.2313809,
          46.76543129,
          35.9794915,
          41.01945046,
          44.85789027,
          32.76968326,
          37.77944942,
          41.65887264,
          31.78075009,
          42.0854085,
          44.06485248,
          37.9782252,
          38.25921689,
          46.86171242,
          35.05287892,
          35.20020678,
          42.98883819,
          34.79762233,
          40.49849934,
          30.43390355,
          41.09961471,
          39.4155113,
          36.78791407,
          29.65942483,
          47.90860703,
          42.94278222,
          47.50164039,
          44.50613958,
          36.09448947,
          34.84418282,
          30.40192819,
          36.32207816,
          40.24628389,
          38.42386984,
          41.74074771,
          35.75831908,
          42.80132033,
          29.78382043,
          38.44117273,
          34.73933396,
          39.81077656,
          33.74614871,
          41.68116218,
          42.46132108,
          42.24475164,
          32.33059672,
          35.65639753,
          30.24181947,
          36.3375669,
          40.30068005,
          20.88659252,
          42.24997611,
          41.15216121,
          39.03982664,
          46.23859532,
          42.56883761,
          31.09576885,
          35.91683263,
          40.4665234,
          43.8612052,
          40.42692869,
          28.02163259,
          40.09979531,
          34.62556763,
          42.72181975,
          27.53630793,
          32.33285093,
          36.13252714,
          38.95631577,
          40.34959417,
          28.81707363,
          42.56860862,
          44.0818084,
          38.02332779,
          40.80732965,
          34.75676053,
          41.72423809,
          46.14350264,
          33.98352871,
          38.23054266,
          33.55939124,
          37.39001742,
          26.24023821,
          43.08262946,
          42.33588197,
          35.09468169,
          37.33478187,
          26.17748297,
          43.05809222,
          44.97830042,
          46.87451617,
          30.66701515,
          37.67392949,
          40.13615762,
          41.92149147,
          32.39995151,
          39.6405077,
          48.44929036,
          40.19744379,
          38.29549179,
          42.81962727,
          36.14244075,
          40.03827159,
          41.67485109,
          41.3700366,
          29.95774994,
          40.7175158,
          27.00674072,
          41.39612925,
          35.50463592,
          47.03583789,
          41.23454462,
          28.58383596,
          44.02719329,
          37.76107021,
          34.25118506,
          28.18906269,
          29.25982347,
          30.19421033,
          30.48866389,
          40.70178183,
          38.25070216,
          39.97408706,
          33.49442277,
          40.45730695,
          42.48001894,
          42.95804917,
          43.66298907,
          45.52023649,
          27.26504674,
          40.2680021,
          41.55242839,
          41.7768202,
          38.2785173,
          42.7356174,
          35.76978231,
          40.57598196,
          39.53219423,
          37.47868673,
          33.98669058,
          37.29054202,
          44.02165549,
          43.13738834,
          42.29530126,
          34.25510466,
          38.63926238,
          43.43242585,
          45.57306781,
          38.63074781,
          44.93506634,
          38.44109128,
          40.63829248,
          31.4397242,
          29.51521896,
          32.92824038,
          37.73533049,
          37.32975376,
          18.28888786,
          35.27901366,
          29.86886312,
          34.42778396,
          34.42765501,
          37.01400732,
          35.64248725,
          34.91152806,
          38.44369154,
          27.30232202,
          32.04411068,
          41.34930333,
          36.61275193,
          47.46953828,
          27.66346538,
          33.69362828,
          32.48568309,
          42.48243123,
          43.53387278,
          41.71423089,
          38.91309693,
          34.97277725,
          47.67999342,
          39.78615468,
          42.12561971,
          37.15240995,
          40.79923784,
          37.96147793,
          33.92996011,
          43.09021748,
          30.47267693,
          28.00637462,
          39.47798773,
          41.63911385,
          39.04145239,
          32.25456386,
          36.10636634,
          37.47330842,
          39.93025113,
          21.36466424,
          38.10955541,
          28.82597231,
          34.47707188,
          39.48107252,
          36.90844225,
          36.29399696,
          31.54251511,
          38.61078567,
          38.89708124,
          41.5490752,
          47.42284332,
          40.05308609,
          37.67900288,
          37.28353179,
          41.24695951,
          34.21718634,
          36.07140283,
          42.18594567,
          46.61203176,
          39.95715983,
          41.14546604,
          39.12302338,
          32.6772972
         ],
         "legendgroup": "",
         "lon": [
          -73.30937653,
          -97.47443015,
          -78.8238528,
          -73.16186339,
          -81.43024199,
          -81.84294525,
          -89.06629527,
          -91.66292971,
          -88.24839368,
          -81.69964379,
          -80.0153329,
          -80.81612294,
          -78.48460313,
          -85.20961785,
          -87.89885204,
          -121.8444768,
          -84.46142101,
          -81.60477125,
          -96.3324779,
          -104.7739339,
          -92.327705,
          -81.07580089,
          -82.96920406,
          -122.0083512,
          -95.47898012,
          -97.41218882,
          -96.97128123,
          -73.42513614,
          -87.86647964,
          -90.51308767,
          -121.7389922,
          -84.16830262,
          -88.93645219,
          -88.72641734,
          -97.06798034,
          -104.9507265,
          -93.6566183,
          -83.22783462,
          -70.90388534,
          -92.12909998,
          -78.947385,
          -75.20976957,
          -91.44505311,
          -115.5445263,
          -85.9190996,
          -85.92472012,
          -106.3910795,
          -80.11460299,
          -123.0769602,
          -87.53846142,
          -122.0354455,
          -96.82079617,
          -78.97950308,
          -111.6251722,
          -83.69610944,
          -87.65514989,
          -105.0582415,
          -86.66885175,
          -85.13841102,
          -77.40835097,
          -119.7631935,
          -82.37188466,
          -97.0557583,
          -85.66964369,
          -111.2843618,
          -88.04080033,
          -79.84385618,
          -82.43897209,
          -89.02391971,
          -119.6937974,
          -76.86814203,
          -78.88637527,
          -72.6991076,
          -81.41845751,
          -86.10190203,
          -95.39390905,
          -82.48082147,
          -86.63943323,
          -86.14557169,
          -116.3470446,
          -91.55930131,
          -76.48245036,
          -84.41107544,
          -90.15623369,
          -88.8360205,
          -81.64974678,
          -82.3488529,
          -78.8922193,
          -156.478039,
          -85.59107403,
          -87.86272768,
          -94.59607412,
          -119.1953233,
          -87.86753508,
          -97.75065071,
          -84.02555666,
          -86.14380638,
          -91.22694912,
          -86.88481241,
          -81.95707265,
          -76.31180969,
          -118.1220955,
          -84.53806002,
          -99.47805176,
          -106.7621973,
          -115.1656785,
          -95.25995875,
          -76.40339708,
          -81.77532193,
          -71.84702808,
          -70.18288285,
          -84.4960722,
          -96.6807023,
          -92.32026945,
          -111.8355179,
          -122.9465203,
          -118.1064239,
          -85.67407165,
          -101.8921195,
          -79.20739981,
          -98.17449855,
          -89.38514679,
          -122.8447077,
          -89.9176587,
          -120.5264653,
          -80.23175026,
          -88.10264655,
          -93.28054878,
          -114.0344902,
          -88.16439413,
          -120.9666403,
          -79.88423289,
          -83.38801125,
          -86.29780284,
          -79.92670251,
          -122.2957,
          -85.4043372,
          -122.2908801,
          -71.4459139,
          -86.69264459,
          -82.44592199,
          -70.93730949,
          -72.78116169,
          -90.14470318,
          -73.96745634,
          -82.12433086,
          -72.07183325,
          -97.5250509,
          -122.8632194,
          -96.03436867,
          -81.41113262,
          -88.5636567,
          -87.10081656,
          -119.2040307,
          -80.67411341,
          -81.07363042,
          -85.67717485,
          -87.25411014,
          -89.5859161,
          -122.6464874,
          -75.29707973,
          -111.9700506,
          -79.95138359,
          -73.21870178,
          -82.48446397,
          -70.3244954,
          -122.6510883,
          -80.30239453,
          -75.64780064,
          -73.98308723,
          -71.39683207,
          -104.6417263,
          -87.83803872,
          -78.6691847,
          -122.3609937,
          -119.7973399,
          -77.48651911,
          -117.3443898,
          -79.97639709,
          -92.47662805,
          -77.5684329,
          -89.01058206,
          -85.1751799,
          -121.3274181,
          -83.98030736,
          -94.1941242,
          -90.34223069,
          -123.0105298,
          -75.59327013,
          -111.9266517,
          -100.4576374,
          -98.47612949,
          -117.1291131,
          -122.2893045,
          -121.9437635,
          -66.11308361,
          -120.6655124,
          -97.92230451,
          -119.7241724,
          -118.5310399,
          -122.0042873,
          -106.0083793,
          -120.438688,
          -122.7413102,
          -82.47249056,
          -81.15333897,
          -75.7838213,
          -121.8630491,
          -122.2740721,
          -80.42051402,
          -96.59529813,
          -93.75608738,
          -96.4013364,
          -96.73506423,
          -86.21387591,
          -119.9875053,
          -81.99193695,
          -117.3531269,
          -89.64258458,
          -72.57438509,
          -93.28884226,
          -77.85816144,
          -121.2877228,
          -80.39409955,
          -76.16407962,
          -84.26880537,
          -82.51364277,
          -87.35488606,
          -83.61396087,
          -95.69221577,
          -110.9463375,
          -95.90308039,
          -120.8166671,
          -79.68321542,
          -157.939681,
          -122.2113362,
          -96.98524283,
          -117.3110304,
          -75.02725881,
          -76.30892607,
          -119.2994895,
          -97.16637119,
          -76.986668,
          -77.18932917,
          -73.03960161,
          -120.2901389,
          -80.72644569,
          -97.32732119,
          -76.7450587,
          -77.00271312,
          -77.89722974,
          -80.26644741,
          -71.79468105,
          -120.5441387,
          -76.71634414,
          -80.68165133,
          -121.6072057,
          -114.5671357
         ],
         "marker": {
          "color": "#636efa",
          "size": [
           561267,
           41808,
           1031785,
           110494,
           108702,
           128502,
           40187,
           50500,
           266693,
           78426,
           154477,
           750275,
           12677,
           129994,
           15097626,
           27657,
           640183,
           1279547,
           19508,
           176232,
           40977,
           188909,
           740454,
           138820,
           10971,
           202658,
           3211568,
           36236,
           4363,
           145478,
           27578,
           490748,
           73457,
           33374,
           80842,
           3399923,
           151464,
           1081022,
           19157,
           158049,
           482589,
           15911,
           40565,
           20708,
           5415,
           38138,
           399099,
           76731,
           335825,
           57620,
           24953,
           116911,
           150800,
           110311,
           157846,
           4202,
           118323,
           6757,
           91005,
           33636,
           443645,
           211178,
           13719,
           365873,
           18766,
           33723,
           208778,
           60605,
           34134,
           397882,
           95876,
           42138,
           1036712,
           11475,
           5998,
           3588165,
           54246,
           43971,
           487679,
           173091,
           183524,
           91503,
           24566,
           39972,
           27226,
           488569,
           8250,
           80011,
           63030,
           147913,
           46119,
           94195,
           112693,
           21757,
           24643,
           201971,
           21593,
           45307,
           172003,
           43297,
           245976,
           65255,
           213502,
           77844,
           7658,
           2604284,
           61038,
           18467,
           22244,
           41177,
           2001,
           247274,
           163051,
           104666,
           45084,
           16126,
           22129296,
           409213,
           95815,
           26643,
           18154,
           183687,
           43022,
           234750,
           26693,
           5212093,
           1228113,
           2603358,
           66379,
           48200,
           117290,
           12946,
           13460,
           31462,
           0,
           26200,
           73125,
           25572,
           18156,
           387617,
           4155,
           145888,
           554093,
           896766,
           138284779,
           4959,
           65588,
           229262,
           132069,
           9224,
           1110283,
           36156,
           7583,
           175713,
           134941,
           188355,
           28041,
           73768,
           169161,
           10674,
           9554300,
           2321868,
           2016959,
           28550,
           53714,
           88140,
           3615960,
           6883,
           10037,
           50296,
           731139,
           40598,
           61395,
           353908,
           31081,
           496582,
           706959,
           607905,
           90222,
           47736,
           643248,
           78512,
           6655,
           736774,
           3383,
           67198,
           1620096,
           133193,
           15493,
           1639254,
           21305,
           1989833,
           3711385,
           8993777,
           938610,
           209025,
           57299,
           111959,
           187264,
           117100,
           65729,
           2713,
           19093,
           102878,
           252063,
           148193,
           122210,
           112564,
           7111138,
           108637,
           3943,
           82706,
           45770,
           42629,
           69926,
           17057,
           7075,
           415338,
           97264,
           343129,
           65062,
           79219,
           161990,
           6906,
           364472,
           44749,
           1309792,
           13990,
           92177,
           77212,
           838315,
           124107,
           12615,
           12063,
           1932336,
           34494,
           22900,
           91789,
           3577,
           572147,
           71074,
           55159,
           37033,
           9393834,
           156474,
           61409,
           23492,
           65847,
           102426,
           365,
           53426,
           170802,
           192957,
           40402,
           111922,
           81956,
           28724,
           22798
          ],
          "sizemode": "area",
          "sizeref": 21606.99671875
         },
         "mode": "markers",
         "name": "",
         "showlegend": false,
         "subplot": "mapbox",
         "type": "scattermapbox"
        }
       ],
       "layout": {
        "legend": {
         "itemsizing": "constant",
         "tracegroupgap": 0
        },
        "mapbox": {
         "center": {
          "lat": 37.80979220248062,
          "lon": -93.38128349883722
         },
         "domain": {
          "x": [
           0,
           1
          ],
          "y": [
           0,
           1
          ]
         },
         "style": "open-street-map",
         "zoom": 3
        },
        "margin": {
         "t": 60
        },
        "template": {
         "data": {
          "bar": [
           {
            "error_x": {
             "color": "#2a3f5f"
            },
            "error_y": {
             "color": "#2a3f5f"
            },
            "marker": {
             "line": {
              "color": "#E5ECF6",
              "width": 0.5
             }
            },
            "type": "bar"
           }
          ],
          "barpolar": [
           {
            "marker": {
             "line": {
              "color": "#E5ECF6",
              "width": 0.5
             }
            },
            "type": "barpolar"
           }
          ],
          "carpet": [
           {
            "aaxis": {
             "endlinecolor": "#2a3f5f",
             "gridcolor": "white",
             "linecolor": "white",
             "minorgridcolor": "white",
             "startlinecolor": "#2a3f5f"
            },
            "baxis": {
             "endlinecolor": "#2a3f5f",
             "gridcolor": "white",
             "linecolor": "white",
             "minorgridcolor": "white",
             "startlinecolor": "#2a3f5f"
            },
            "type": "carpet"
           }
          ],
          "choropleth": [
           {
            "colorbar": {
             "outlinewidth": 0,
             "ticks": ""
            },
            "type": "choropleth"
           }
          ],
          "contour": [
           {
            "colorbar": {
             "outlinewidth": 0,
             "ticks": ""
            },
            "colorscale": [
             [
              0,
              "#0d0887"
             ],
             [
              0.1111111111111111,
              "#46039f"
             ],
             [
              0.2222222222222222,
              "#7201a8"
             ],
             [
              0.3333333333333333,
              "#9c179e"
             ],
             [
              0.4444444444444444,
              "#bd3786"
             ],
             [
              0.5555555555555556,
              "#d8576b"
             ],
             [
              0.6666666666666666,
              "#ed7953"
             ],
             [
              0.7777777777777778,
              "#fb9f3a"
             ],
             [
              0.8888888888888888,
              "#fdca26"
             ],
             [
              1,
              "#f0f921"
             ]
            ],
            "type": "contour"
           }
          ],
          "contourcarpet": [
           {
            "colorbar": {
             "outlinewidth": 0,
             "ticks": ""
            },
            "type": "contourcarpet"
           }
          ],
          "heatmap": [
           {
            "colorbar": {
             "outlinewidth": 0,
             "ticks": ""
            },
            "colorscale": [
             [
              0,
              "#0d0887"
             ],
             [
              0.1111111111111111,
              "#46039f"
             ],
             [
              0.2222222222222222,
              "#7201a8"
             ],
             [
              0.3333333333333333,
              "#9c179e"
             ],
             [
              0.4444444444444444,
              "#bd3786"
             ],
             [
              0.5555555555555556,
              "#d8576b"
             ],
             [
              0.6666666666666666,
              "#ed7953"
             ],
             [
              0.7777777777777778,
              "#fb9f3a"
             ],
             [
              0.8888888888888888,
              "#fdca26"
             ],
             [
              1,
              "#f0f921"
             ]
            ],
            "type": "heatmap"
           }
          ],
          "heatmapgl": [
           {
            "colorbar": {
             "outlinewidth": 0,
             "ticks": ""
            },
            "colorscale": [
             [
              0,
              "#0d0887"
             ],
             [
              0.1111111111111111,
              "#46039f"
             ],
             [
              0.2222222222222222,
              "#7201a8"
             ],
             [
              0.3333333333333333,
              "#9c179e"
             ],
             [
              0.4444444444444444,
              "#bd3786"
             ],
             [
              0.5555555555555556,
              "#d8576b"
             ],
             [
              0.6666666666666666,
              "#ed7953"
             ],
             [
              0.7777777777777778,
              "#fb9f3a"
             ],
             [
              0.8888888888888888,
              "#fdca26"
             ],
             [
              1,
              "#f0f921"
             ]
            ],
            "type": "heatmapgl"
           }
          ],
          "histogram": [
           {
            "marker": {
             "colorbar": {
              "outlinewidth": 0,
              "ticks": ""
             }
            },
            "type": "histogram"
           }
          ],
          "histogram2d": [
           {
            "colorbar": {
             "outlinewidth": 0,
             "ticks": ""
            },
            "colorscale": [
             [
              0,
              "#0d0887"
             ],
             [
              0.1111111111111111,
              "#46039f"
             ],
             [
              0.2222222222222222,
              "#7201a8"
             ],
             [
              0.3333333333333333,
              "#9c179e"
             ],
             [
              0.4444444444444444,
              "#bd3786"
             ],
             [
              0.5555555555555556,
              "#d8576b"
             ],
             [
              0.6666666666666666,
              "#ed7953"
             ],
             [
              0.7777777777777778,
              "#fb9f3a"
             ],
             [
              0.8888888888888888,
              "#fdca26"
             ],
             [
              1,
              "#f0f921"
             ]
            ],
            "type": "histogram2d"
           }
          ],
          "histogram2dcontour": [
           {
            "colorbar": {
             "outlinewidth": 0,
             "ticks": ""
            },
            "colorscale": [
             [
              0,
              "#0d0887"
             ],
             [
              0.1111111111111111,
              "#46039f"
             ],
             [
              0.2222222222222222,
              "#7201a8"
             ],
             [
              0.3333333333333333,
              "#9c179e"
             ],
             [
              0.4444444444444444,
              "#bd3786"
             ],
             [
              0.5555555555555556,
              "#d8576b"
             ],
             [
              0.6666666666666666,
              "#ed7953"
             ],
             [
              0.7777777777777778,
              "#fb9f3a"
             ],
             [
              0.8888888888888888,
              "#fdca26"
             ],
             [
              1,
              "#f0f921"
             ]
            ],
            "type": "histogram2dcontour"
           }
          ],
          "mesh3d": [
           {
            "colorbar": {
             "outlinewidth": 0,
             "ticks": ""
            },
            "type": "mesh3d"
           }
          ],
          "parcoords": [
           {
            "line": {
             "colorbar": {
              "outlinewidth": 0,
              "ticks": ""
             }
            },
            "type": "parcoords"
           }
          ],
          "pie": [
           {
            "automargin": true,
            "type": "pie"
           }
          ],
          "scatter": [
           {
            "marker": {
             "colorbar": {
              "outlinewidth": 0,
              "ticks": ""
             }
            },
            "type": "scatter"
           }
          ],
          "scatter3d": [
           {
            "line": {
             "colorbar": {
              "outlinewidth": 0,
              "ticks": ""
             }
            },
            "marker": {
             "colorbar": {
              "outlinewidth": 0,
              "ticks": ""
             }
            },
            "type": "scatter3d"
           }
          ],
          "scattercarpet": [
           {
            "marker": {
             "colorbar": {
              "outlinewidth": 0,
              "ticks": ""
             }
            },
            "type": "scattercarpet"
           }
          ],
          "scattergeo": [
           {
            "marker": {
             "colorbar": {
              "outlinewidth": 0,
              "ticks": ""
             }
            },
            "type": "scattergeo"
           }
          ],
          "scattergl": [
           {
            "marker": {
             "colorbar": {
              "outlinewidth": 0,
              "ticks": ""
             }
            },
            "type": "scattergl"
           }
          ],
          "scattermapbox": [
           {
            "marker": {
             "colorbar": {
              "outlinewidth": 0,
              "ticks": ""
             }
            },
            "type": "scattermapbox"
           }
          ],
          "scatterpolar": [
           {
            "marker": {
             "colorbar": {
              "outlinewidth": 0,
              "ticks": ""
             }
            },
            "type": "scatterpolar"
           }
          ],
          "scatterpolargl": [
           {
            "marker": {
             "colorbar": {
              "outlinewidth": 0,
              "ticks": ""
             }
            },
            "type": "scatterpolargl"
           }
          ],
          "scatterternary": [
           {
            "marker": {
             "colorbar": {
              "outlinewidth": 0,
              "ticks": ""
             }
            },
            "type": "scatterternary"
           }
          ],
          "surface": [
           {
            "colorbar": {
             "outlinewidth": 0,
             "ticks": ""
            },
            "colorscale": [
             [
              0,
              "#0d0887"
             ],
             [
              0.1111111111111111,
              "#46039f"
             ],
             [
              0.2222222222222222,
              "#7201a8"
             ],
             [
              0.3333333333333333,
              "#9c179e"
             ],
             [
              0.4444444444444444,
              "#bd3786"
             ],
             [
              0.5555555555555556,
              "#d8576b"
             ],
             [
              0.6666666666666666,
              "#ed7953"
             ],
             [
              0.7777777777777778,
              "#fb9f3a"
             ],
             [
              0.8888888888888888,
              "#fdca26"
             ],
             [
              1,
              "#f0f921"
             ]
            ],
            "type": "surface"
           }
          ],
          "table": [
           {
            "cells": {
             "fill": {
              "color": "#EBF0F8"
             },
             "line": {
              "color": "white"
             }
            },
            "header": {
             "fill": {
              "color": "#C8D4E3"
             },
             "line": {
              "color": "white"
             }
            },
            "type": "table"
           }
          ]
         },
         "layout": {
          "annotationdefaults": {
           "arrowcolor": "#2a3f5f",
           "arrowhead": 0,
           "arrowwidth": 1
          },
          "coloraxis": {
           "colorbar": {
            "outlinewidth": 0,
            "ticks": ""
           }
          },
          "colorscale": {
           "diverging": [
            [
             0,
             "#8e0152"
            ],
            [
             0.1,
             "#c51b7d"
            ],
            [
             0.2,
             "#de77ae"
            ],
            [
             0.3,
             "#f1b6da"
            ],
            [
             0.4,
             "#fde0ef"
            ],
            [
             0.5,
             "#f7f7f7"
            ],
            [
             0.6,
             "#e6f5d0"
            ],
            [
             0.7,
             "#b8e186"
            ],
            [
             0.8,
             "#7fbc41"
            ],
            [
             0.9,
             "#4d9221"
            ],
            [
             1,
             "#276419"
            ]
           ],
           "sequential": [
            [
             0,
             "#0d0887"
            ],
            [
             0.1111111111111111,
             "#46039f"
            ],
            [
             0.2222222222222222,
             "#7201a8"
            ],
            [
             0.3333333333333333,
             "#9c179e"
            ],
            [
             0.4444444444444444,
             "#bd3786"
            ],
            [
             0.5555555555555556,
             "#d8576b"
            ],
            [
             0.6666666666666666,
             "#ed7953"
            ],
            [
             0.7777777777777778,
             "#fb9f3a"
            ],
            [
             0.8888888888888888,
             "#fdca26"
            ],
            [
             1,
             "#f0f921"
            ]
           ],
           "sequentialminus": [
            [
             0,
             "#0d0887"
            ],
            [
             0.1111111111111111,
             "#46039f"
            ],
            [
             0.2222222222222222,
             "#7201a8"
            ],
            [
             0.3333333333333333,
             "#9c179e"
            ],
            [
             0.4444444444444444,
             "#bd3786"
            ],
            [
             0.5555555555555556,
             "#d8576b"
            ],
            [
             0.6666666666666666,
             "#ed7953"
            ],
            [
             0.7777777777777778,
             "#fb9f3a"
            ],
            [
             0.8888888888888888,
             "#fdca26"
            ],
            [
             1,
             "#f0f921"
            ]
           ]
          },
          "colorway": [
           "#636efa",
           "#EF553B",
           "#00cc96",
           "#ab63fa",
           "#FFA15A",
           "#19d3f3",
           "#FF6692",
           "#B6E880",
           "#FF97FF",
           "#FECB52"
          ],
          "font": {
           "color": "#2a3f5f"
          },
          "geo": {
           "bgcolor": "white",
           "lakecolor": "white",
           "landcolor": "#E5ECF6",
           "showlakes": true,
           "showland": true,
           "subunitcolor": "white"
          },
          "hoverlabel": {
           "align": "left"
          },
          "hovermode": "closest",
          "mapbox": {
           "style": "light"
          },
          "paper_bgcolor": "white",
          "plot_bgcolor": "#E5ECF6",
          "polar": {
           "angularaxis": {
            "gridcolor": "white",
            "linecolor": "white",
            "ticks": ""
           },
           "bgcolor": "#E5ECF6",
           "radialaxis": {
            "gridcolor": "white",
            "linecolor": "white",
            "ticks": ""
           }
          },
          "scene": {
           "xaxis": {
            "backgroundcolor": "#E5ECF6",
            "gridcolor": "white",
            "gridwidth": 2,
            "linecolor": "white",
            "showbackground": true,
            "ticks": "",
            "zerolinecolor": "white"
           },
           "yaxis": {
            "backgroundcolor": "#E5ECF6",
            "gridcolor": "white",
            "gridwidth": 2,
            "linecolor": "white",
            "showbackground": true,
            "ticks": "",
            "zerolinecolor": "white"
           },
           "zaxis": {
            "backgroundcolor": "#E5ECF6",
            "gridcolor": "white",
            "gridwidth": 2,
            "linecolor": "white",
            "showbackground": true,
            "ticks": "",
            "zerolinecolor": "white"
           }
          },
          "shapedefaults": {
           "line": {
            "color": "#2a3f5f"
           }
          },
          "ternary": {
           "aaxis": {
            "gridcolor": "white",
            "linecolor": "white",
            "ticks": ""
           },
           "baxis": {
            "gridcolor": "white",
            "linecolor": "white",
            "ticks": ""
           },
           "bgcolor": "#E5ECF6",
           "caxis": {
            "gridcolor": "white",
            "linecolor": "white",
            "ticks": ""
           }
          },
          "title": {
           "x": 0.05
          },
          "xaxis": {
           "automargin": true,
           "gridcolor": "white",
           "linecolor": "white",
           "ticks": "",
           "title": {
            "standoff": 15
           },
           "zerolinecolor": "white",
           "zerolinewidth": 2
          },
          "yaxis": {
           "automargin": true,
           "gridcolor": "white",
           "linecolor": "white",
           "ticks": "",
           "title": {
            "standoff": 15
           },
           "zerolinecolor": "white",
           "zerolinewidth": 2
          }
         }
        },
        "title": {
         "text": "Total Transit Trips in 2020-09"
        }
       }
      },
      "text/html": [
       "<div>                            <div id=\"b5da66a4-d8f3-49c6-a0d0-74ae74c12430\" class=\"plotly-graph-div\" style=\"height:525px; width:100%;\"></div>            <script type=\"text/javascript\">                require([\"plotly\"], function(Plotly) {                    window.PLOTLYENV=window.PLOTLYENV || {};                                    if (document.getElementById(\"b5da66a4-d8f3-49c6-a0d0-74ae74c12430\")) {                    Plotly.newPlot(                        \"b5da66a4-d8f3-49c6-a0d0-74ae74c12430\",                        [{\"customdata\": [[561267], [41808], [1031785], [110494], [108702], [128502], [40187], [50500], [266693], [78426], [154477], [750275], [12677], [129994], [15097626], [27657], [640183], [1279547], [19508], [176232], [40977], [188909], [740454], [138820], [10971], [202658], [3211568], [36236], [4363], [145478], [27578], [490748], [73457], [33374], [80842], [3399923], [151464], [1081022], [19157], [158049], [482589], [15911], [40565], [20708], [5415], [38138], [399099], [76731], [335825], [57620], [24953], [116911], [150800], [110311], [157846], [4202], [118323], [6757], [91005], [33636], [443645], [211178], [13719], [365873], [18766], [33723], [208778], [60605], [34134], [397882], [95876], [42138], [1036712], [11475], [5998], [3588165], [54246], [43971], [487679], [173091], [183524], [91503], [24566], [39972], [27226], [488569], [8250], [80011], [63030], [147913], [46119], [94195], [112693], [21757], [24643], [201971], [21593], [45307], [172003], [43297], [245976], [65255], [213502], [77844], [7658], [2604284], [61038], [18467], [22244], [41177], [2001], [247274], [163051], [104666], [45084], [16126], [22129296], [409213], [95815], [26643], [18154], [183687], [43022], [234750], [26693], [5212093], [1228113], [2603358], [66379], [48200], [117290], [12946], [13460], [31462], [0], [26200], [73125], [25572], [18156], [387617], [4155], [145888], [554093], [896766], [138284779], [4959], [65588], [229262], [132069], [9224], [1110283], [36156], [7583], [175713], [134941], [188355], [28041], [73768], [169161], [10674], [9554300], [2321868], [2016959], [28550], [53714], [88140], [3615960], [6883], [10037], [50296], [731139], [40598], [61395], [353908], [31081], [496582], [706959], [607905], [90222], [47736], [643248], [78512], [6655], [736774], [3383], [67198], [1620096], [133193], [15493], [1639254], [21305], [1989833], [3711385], [8993777], [938610], [209025], [57299], [111959], [187264], [117100], [65729], [2713], [19093], [102878], [252063], [148193], [122210], [112564], [7111138], [108637], [3943], [82706], [45770], [42629], [69926], [17057], [7075], [415338], [97264], [343129], [65062], [79219], [161990], [6906], [364472], [44749], [1309792], [13990], [92177], [77212], [838315], [124107], [12615], [12063], [1932336], [34494], [22900], [91789], [3577], [572147], [71074], [55159], [37033], [9393834], [156474], [61409], [23492], [65847], [102426], [365], [53426], [170802], [192957], [40402], [111922], [81956], [28724], [22798]], \"hovertemplate\": \"<b>%{hovertext}</b><br><br>trips=%{customdata[0]}<br>lat=%{lat}<br>lon=%{lon}<extra></extra>\", \"hovertext\": [\"Bridgeport-Stamford, CT-NY\", \"Brownsville, TX\", \"Buffalo, NY\", \"Burlington, VT\", \"Canton, OH\", \"Cape Coral, FL\", \"Carbondale, IL\", \"Cedar Rapids, IA\", \"Champaign, IL\", \"Charleston, WV\", \"Charleston-North Charleston, SC\", \"Charlotte, NC-SC\", \"Charlottesville, VA\", \"Chattanooga, TN-GA\", \"Chicago, IL-IN\", \"Chico, CA\", \"Cincinnati, OH-KY-IN\", \"Cleveland, OH\", \"College Station-Bryan, TX\", \"Colorado Springs, CO\", \"Columbia, MO\", \"Columbia, SC\", \"Columbus, OH\", \"Concord, CA\", \"Conroe-The Woodlands, TX\", \"Corpus Christi, TX\", \"Dallas-Fort Worth-Arlington, TX\", \"Danbury, CT-NY\", \"Daphne-Fairhope, AL\", \"Davenport, IA-IL\", \"Davis, CA\", \"Dayton, OH\", \"Decatur, IL\", \"DeKalb, IL\", \"Denton-Lewisville, TX\", \"Denver-Aurora, CO\", \"Des Moines, IA\", \"Detroit, MI\", \"Dover-Rochester, NH-ME\", \"Duluth, MN-WI\", \"Durham, NC\", \"East Stroudsburg, PA-NJ\", \"Eau Claire, WI\", \"El Centro-Calexico, CA\", \"Elizabethtown-Radcliff, KY\", \"Elkhart, IN-MI\", \"El Paso, TX-NM\", \"Erie, PA\", \"Eugene, OR\", \"Evansville, IN-KY\", \"Fairfield, CA\", \"Fargo, ND-MN\", \"Fayetteville, NC\", \"Flagstaff, AZ\", \"Flint, MI\", \"Florence, AL\", \"Fort Collins, CO\", \"Fort Walton Beach-Navarre-Wright, FL\", \"Fort Wayne, IN\", \"Frederick, MD\", \"Fresno, CA\", \"Gainesville, FL\", \"Grand Forks, ND-MN\", \"Grand Rapids, MI\", \"Great Falls, MT\", \"Green Bay, WI\", \"Greensboro, NC\", \"Greenville, SC\", \"Gulfport, MS\", \"Hanford, CA\", \"Harrisburg, PA\", \"Harrisonburg, VA\", \"Hartford, CT\", \"Hickory, NC\", \"Holland, MI\", \"Houston, TX\", \"Huntington, WV-KY-OH\", \"Huntsville, AL\", \"Indianapolis, IN\", \"Indio-Cathedral City, CA\", \"Iowa City, IA\", \"Ithaca, NY\", \"Jackson, MI\", \"Jackson, MS\", \"Jackson, TN\", \"Jacksonville, FL\", \"Johnson City, TN\", \"Johnstown, PA\", \"Kahului, HI\", \"Kalamazoo, MI\", \"Kankakee, IL\", \"Kansas City, MO-KS\", \"Kennewick-Pasco, WA\", \"Kenosha, WI-IL\", \"Killeen, TX\", \"Knoxville, TN\", \"Kokomo, IN\", \"La Crosse, WI-MN\", \"Lafayette, IN\", \"Lakeland, FL\", \"Lancaster, PA\", \"Lancaster-Palmdale, CA\", \"Lansing, MI\", \"Laredo, TX\", \"Las Cruces, NM\", \"Las Vegas-Henderson, NV\", \"Lawrence, KS\", \"Lebanon, PA\", \"Leesburg-Eustis-Tavares, FL\", \"Leominster-Fitchburg, MA\", \"Lewiston, ME\", \"Lexington-Fayette, KY\", \"Lincoln, NE\", \"Little Rock, AR\", \"Logan, UT\", \"Longview, WA-OR\", \"Los Angeles-Long Beach-Anaheim, CA\", \"Louisville/Jefferson County, KY-IN\", \"Lubbock, TX\", \"Lynchburg, VA\", \"McAllen, TX\", \"Madison, WI\", \"Medford, OR\", \"Memphis, TN-MS-AR\", \"Merced, CA\", \"Miami, FL\", \"Milwaukee, WI\", \"Minneapolis-St. Paul, MN-WI\", \"Missoula, MT\", \"Mobile, AL\", \"Modesto, CA\", \"Monessen-California, PA\", \"Monroe, MI\", \"Montgomery, AL\", \"Morgantown, WV\", \"Mount Vernon, WA\", \"Muncie, IN\", \"Napa, CA\", \"Nashua, NH-MA\", \"Nashville-Davidson, TN\", \"Newark, OH\", \"New Bedford, MA\", \"New Haven, CT\", \"New Orleans, LA\", \"New York-Newark, NY-NJ-CT\", \"North Port-Port Charlotte, FL\", \"Norwich-New London, CT-RI\", \"Oklahoma City, OK\", \"Olympia-Lacey, WA\", \"Omaha, NE-IA\", \"Orlando, FL\", \"Oshkosh, WI\", \"Owensboro, KY\", \"Oxnard, CA\", \"Palm Bay-Melbourne, FL\", \"Palm Coast-Daytona Beach-Port Orange, FL\", \"Panama City, FL\", \"Pensacola, FL-AL\", \"Peoria, IL\", \"Petaluma, CA\", \"Philadelphia, PA-NJ-DE-MD\", \"Phoenix-Mesa, AZ\", \"Pittsburgh, PA\", \"Pittsfield, MA\", \"Port Huron, MI\", \"Portland, ME\", \"Portland, OR-WA\", \"Port St. Lucie, FL\", \"Pottstown, PA\", \"Poughkeepsie-Newburgh, NY-NJ\", \"Providence, RI-MA\", \"Pueblo, CO\", \"Racine, WI\", \"Raleigh, NC\", \"Redding, CA\", \"Reno, NV-CA\", \"Richmond, VA\", \"Riverside-San Bernardino, CA\", \"Roanoke, VA\", \"Rochester, MN\", \"Rochester, NY\", \"Rockford, IL\", \"Rome, GA\", \"Sacramento, CA\", \"Saginaw, MI\", \"St. Cloud, MN\", \"St. Louis, MO-IL\", \"Salem, OR\", \"Salisbury, MD-DE\", \"Salt Lake City-West Valley City, UT\", \"San Angelo, TX\", \"San Antonio, TX\", \"San Diego, CA\", \"San Francisco-Oakland, CA\", \"San Jose, CA\", \"San Juan, PR\", \"San Luis Obispo, CA\", \"San Marcos, TX\", \"Santa Barbara, CA\", \"Santa Clarita, CA\", \"Santa Cruz, CA\", \"Santa Fe, NM\", \"Santa Maria, CA\", \"Santa Rosa, CA\", \"Sarasota-Bradenton, FL\", \"Savannah, GA\", \"Scranton, PA\", \"Seaside-Monterey, CA\", \"Seattle, WA\", \"Sebastian-Vero Beach South-Florida Ridge, FL\", \"Sherman, TX\", \"Shreveport, LA\", \"Sioux City, IA-NE-SD\", \"Sioux Falls, SD\", \"South Bend, IN-MI\", \"South Lake Tahoe, CA-NV\", \"Spartanburg, SC\", \"Spokane, WA\", \"Springfield, IL\", \"Springfield, MA-CT\", \"Springfield, MO\", \"State College, PA\", \"Stockton, CA\", \"Sumter, SC\", \"Syracuse, NY\", \"Tallahassee, FL\", \"Tampa-St. Petersburg, FL\", \"Terre Haute, IN\", \"Toledo, OH-MI\", \"Topeka, KS\", \"Tucson, AZ\", \"Tulsa, OK\", \"Turlock, CA\", \"Uniontown-Connellsville, PA\", \"Urban Honolulu, HI\", \"Vallejo, CA\", \"Victoria, TX\", \"Victorville-Hesperia, CA\", \"Vineland, NJ\", \"Virginia Beach, VA\", \"Visalia, CA\", \"Waco, TX\", \"Waldorf, MD\", \"Washington, DC-VA-MD\", \"Waterbury, CT\", \"Wenatchee, WA\", \"Wheeling, WV-OH\", \"Wichita, KS\", \"Williamsburg, VA\", \"Williamsport, PA\", \"Wilmington, NC\", \"Winston-Salem, NC\", \"Worcester, MA-CT\", \"Yakima, WA\", \"York, PA\", \"Youngstown, OH-PA\", \"Yuba City, CA\", \"Yuma, AZ-CA\"], \"lat\": [41.23515409, 25.96692188, 42.92662801, 44.48097573, 40.82859609, 26.59922075, 37.74868526, 41.99873923, 40.09879724, 38.37627203, 32.90225719, 35.25060655, 38.05776352, 35.05846413, 41.82748423, 39.75071355, 39.18644469, 41.44270581, 30.62641971, 38.87183576, 38.95524244, 34.03614411, 40.0213739, 37.85060906, 30.23165999, 27.74681965, 32.81499268, 41.45549354, 30.60832555, 41.5179778, 38.55395206, 39.75512973, 39.84525708, 41.95168525, 33.09537415, 39.71043885, 41.61890311, 42.49001729, 43.2313809, 46.76543129, 35.9794915, 41.01945046, 44.85789027, 32.76968326, 37.77944942, 41.65887264, 31.78075009, 42.0854085, 44.06485248, 37.9782252, 38.25921689, 46.86171242, 35.05287892, 35.20020678, 42.98883819, 34.79762233, 40.49849934, 30.43390355, 41.09961471, 39.4155113, 36.78791407, 29.65942483, 47.90860703, 42.94278222, 47.50164039, 44.50613958, 36.09448947, 34.84418282, 30.40192819, 36.32207816, 40.24628389, 38.42386984, 41.74074771, 35.75831908, 42.80132033, 29.78382043, 38.44117273, 34.73933396, 39.81077656, 33.74614871, 41.68116218, 42.46132108, 42.24475164, 32.33059672, 35.65639753, 30.24181947, 36.3375669, 40.30068005, 20.88659252, 42.24997611, 41.15216121, 39.03982664, 46.23859532, 42.56883761, 31.09576885, 35.91683263, 40.4665234, 43.8612052, 40.42692869, 28.02163259, 40.09979531, 34.62556763, 42.72181975, 27.53630793, 32.33285093, 36.13252714, 38.95631577, 40.34959417, 28.81707363, 42.56860862, 44.0818084, 38.02332779, 40.80732965, 34.75676053, 41.72423809, 46.14350264, 33.98352871, 38.23054266, 33.55939124, 37.39001742, 26.24023821, 43.08262946, 42.33588197, 35.09468169, 37.33478187, 26.17748297, 43.05809222, 44.97830042, 46.87451617, 30.66701515, 37.67392949, 40.13615762, 41.92149147, 32.39995151, 39.6405077, 48.44929036, 40.19744379, 38.29549179, 42.81962727, 36.14244075, 40.03827159, 41.67485109, 41.3700366, 29.95774994, 40.7175158, 27.00674072, 41.39612925, 35.50463592, 47.03583789, 41.23454462, 28.58383596, 44.02719329, 37.76107021, 34.25118506, 28.18906269, 29.25982347, 30.19421033, 30.48866389, 40.70178183, 38.25070216, 39.97408706, 33.49442277, 40.45730695, 42.48001894, 42.95804917, 43.66298907, 45.52023649, 27.26504674, 40.2680021, 41.55242839, 41.7768202, 38.2785173, 42.7356174, 35.76978231, 40.57598196, 39.53219423, 37.47868673, 33.98669058, 37.29054202, 44.02165549, 43.13738834, 42.29530126, 34.25510466, 38.63926238, 43.43242585, 45.57306781, 38.63074781, 44.93506634, 38.44109128, 40.63829248, 31.4397242, 29.51521896, 32.92824038, 37.73533049, 37.32975376, 18.28888786, 35.27901366, 29.86886312, 34.42778396, 34.42765501, 37.01400732, 35.64248725, 34.91152806, 38.44369154, 27.30232202, 32.04411068, 41.34930333, 36.61275193, 47.46953828, 27.66346538, 33.69362828, 32.48568309, 42.48243123, 43.53387278, 41.71423089, 38.91309693, 34.97277725, 47.67999342, 39.78615468, 42.12561971, 37.15240995, 40.79923784, 37.96147793, 33.92996011, 43.09021748, 30.47267693, 28.00637462, 39.47798773, 41.63911385, 39.04145239, 32.25456386, 36.10636634, 37.47330842, 39.93025113, 21.36466424, 38.10955541, 28.82597231, 34.47707188, 39.48107252, 36.90844225, 36.29399696, 31.54251511, 38.61078567, 38.89708124, 41.5490752, 47.42284332, 40.05308609, 37.67900288, 37.28353179, 41.24695951, 34.21718634, 36.07140283, 42.18594567, 46.61203176, 39.95715983, 41.14546604, 39.12302338, 32.6772972], \"legendgroup\": \"\", \"lon\": [-73.30937653, -97.47443015, -78.8238528, -73.16186339, -81.43024199, -81.84294525, -89.06629527, -91.66292971, -88.24839368, -81.69964379, -80.0153329, -80.81612294, -78.48460313, -85.20961785, -87.89885204, -121.8444768, -84.46142101, -81.60477125, -96.3324779, -104.7739339, -92.327705, -81.07580089, -82.96920406, -122.0083512, -95.47898012, -97.41218882, -96.97128123, -73.42513614, -87.86647964, -90.51308767, -121.7389922, -84.16830262, -88.93645219, -88.72641734, -97.06798034, -104.9507265, -93.6566183, -83.22783462, -70.90388534, -92.12909998, -78.947385, -75.20976957, -91.44505311, -115.5445263, -85.9190996, -85.92472012, -106.3910795, -80.11460299, -123.0769602, -87.53846142, -122.0354455, -96.82079617, -78.97950308, -111.6251722, -83.69610944, -87.65514989, -105.0582415, -86.66885175, -85.13841102, -77.40835097, -119.7631935, -82.37188466, -97.0557583, -85.66964369, -111.2843618, -88.04080033, -79.84385618, -82.43897209, -89.02391971, -119.6937974, -76.86814203, -78.88637527, -72.6991076, -81.41845751, -86.10190203, -95.39390905, -82.48082147, -86.63943323, -86.14557169, -116.3470446, -91.55930131, -76.48245036, -84.41107544, -90.15623369, -88.8360205, -81.64974678, -82.3488529, -78.8922193, -156.478039, -85.59107403, -87.86272768, -94.59607412, -119.1953233, -87.86753508, -97.75065071, -84.02555666, -86.14380638, -91.22694912, -86.88481241, -81.95707265, -76.31180969, -118.1220955, -84.53806002, -99.47805176, -106.7621973, -115.1656785, -95.25995875, -76.40339708, -81.77532193, -71.84702808, -70.18288285, -84.4960722, -96.6807023, -92.32026945, -111.8355179, -122.9465203, -118.1064239, -85.67407165, -101.8921195, -79.20739981, -98.17449855, -89.38514679, -122.8447077, -89.9176587, -120.5264653, -80.23175026, -88.10264655, -93.28054878, -114.0344902, -88.16439413, -120.9666403, -79.88423289, -83.38801125, -86.29780284, -79.92670251, -122.2957, -85.4043372, -122.2908801, -71.4459139, -86.69264459, -82.44592199, -70.93730949, -72.78116169, -90.14470318, -73.96745634, -82.12433086, -72.07183325, -97.5250509, -122.8632194, -96.03436867, -81.41113262, -88.5636567, -87.10081656, -119.2040307, -80.67411341, -81.07363042, -85.67717485, -87.25411014, -89.5859161, -122.6464874, -75.29707973, -111.9700506, -79.95138359, -73.21870178, -82.48446397, -70.3244954, -122.6510883, -80.30239453, -75.64780064, -73.98308723, -71.39683207, -104.6417263, -87.83803872, -78.6691847, -122.3609937, -119.7973399, -77.48651911, -117.3443898, -79.97639709, -92.47662805, -77.5684329, -89.01058206, -85.1751799, -121.3274181, -83.98030736, -94.1941242, -90.34223069, -123.0105298, -75.59327013, -111.9266517, -100.4576374, -98.47612949, -117.1291131, -122.2893045, -121.9437635, -66.11308361, -120.6655124, -97.92230451, -119.7241724, -118.5310399, -122.0042873, -106.0083793, -120.438688, -122.7413102, -82.47249056, -81.15333897, -75.7838213, -121.8630491, -122.2740721, -80.42051402, -96.59529813, -93.75608738, -96.4013364, -96.73506423, -86.21387591, -119.9875053, -81.99193695, -117.3531269, -89.64258458, -72.57438509, -93.28884226, -77.85816144, -121.2877228, -80.39409955, -76.16407962, -84.26880537, -82.51364277, -87.35488606, -83.61396087, -95.69221577, -110.9463375, -95.90308039, -120.8166671, -79.68321542, -157.939681, -122.2113362, -96.98524283, -117.3110304, -75.02725881, -76.30892607, -119.2994895, -97.16637119, -76.986668, -77.18932917, -73.03960161, -120.2901389, -80.72644569, -97.32732119, -76.7450587, -77.00271312, -77.89722974, -80.26644741, -71.79468105, -120.5441387, -76.71634414, -80.68165133, -121.6072057, -114.5671357], \"marker\": {\"color\": \"#636efa\", \"size\": [561267, 41808, 1031785, 110494, 108702, 128502, 40187, 50500, 266693, 78426, 154477, 750275, 12677, 129994, 15097626, 27657, 640183, 1279547, 19508, 176232, 40977, 188909, 740454, 138820, 10971, 202658, 3211568, 36236, 4363, 145478, 27578, 490748, 73457, 33374, 80842, 3399923, 151464, 1081022, 19157, 158049, 482589, 15911, 40565, 20708, 5415, 38138, 399099, 76731, 335825, 57620, 24953, 116911, 150800, 110311, 157846, 4202, 118323, 6757, 91005, 33636, 443645, 211178, 13719, 365873, 18766, 33723, 208778, 60605, 34134, 397882, 95876, 42138, 1036712, 11475, 5998, 3588165, 54246, 43971, 487679, 173091, 183524, 91503, 24566, 39972, 27226, 488569, 8250, 80011, 63030, 147913, 46119, 94195, 112693, 21757, 24643, 201971, 21593, 45307, 172003, 43297, 245976, 65255, 213502, 77844, 7658, 2604284, 61038, 18467, 22244, 41177, 2001, 247274, 163051, 104666, 45084, 16126, 22129296, 409213, 95815, 26643, 18154, 183687, 43022, 234750, 26693, 5212093, 1228113, 2603358, 66379, 48200, 117290, 12946, 13460, 31462, 0, 26200, 73125, 25572, 18156, 387617, 4155, 145888, 554093, 896766, 138284779, 4959, 65588, 229262, 132069, 9224, 1110283, 36156, 7583, 175713, 134941, 188355, 28041, 73768, 169161, 10674, 9554300, 2321868, 2016959, 28550, 53714, 88140, 3615960, 6883, 10037, 50296, 731139, 40598, 61395, 353908, 31081, 496582, 706959, 607905, 90222, 47736, 643248, 78512, 6655, 736774, 3383, 67198, 1620096, 133193, 15493, 1639254, 21305, 1989833, 3711385, 8993777, 938610, 209025, 57299, 111959, 187264, 117100, 65729, 2713, 19093, 102878, 252063, 148193, 122210, 112564, 7111138, 108637, 3943, 82706, 45770, 42629, 69926, 17057, 7075, 415338, 97264, 343129, 65062, 79219, 161990, 6906, 364472, 44749, 1309792, 13990, 92177, 77212, 838315, 124107, 12615, 12063, 1932336, 34494, 22900, 91789, 3577, 572147, 71074, 55159, 37033, 9393834, 156474, 61409, 23492, 65847, 102426, 365, 53426, 170802, 192957, 40402, 111922, 81956, 28724, 22798], \"sizemode\": \"area\", \"sizeref\": 21606.99671875}, \"mode\": \"markers\", \"name\": \"\", \"showlegend\": false, \"subplot\": \"mapbox\", \"type\": \"scattermapbox\"}],                        {\"legend\": {\"itemsizing\": \"constant\", \"tracegroupgap\": 0}, \"mapbox\": {\"center\": {\"lat\": 37.80979220248062, \"lon\": -93.38128349883722}, \"domain\": {\"x\": [0.0, 1.0], \"y\": [0.0, 1.0]}, \"style\": \"open-street-map\", \"zoom\": 3}, \"margin\": {\"t\": 60}, \"template\": {\"data\": {\"bar\": [{\"error_x\": {\"color\": \"#2a3f5f\"}, \"error_y\": {\"color\": \"#2a3f5f\"}, \"marker\": {\"line\": {\"color\": \"#E5ECF6\", \"width\": 0.5}}, \"type\": \"bar\"}], \"barpolar\": [{\"marker\": {\"line\": {\"color\": \"#E5ECF6\", \"width\": 0.5}}, \"type\": \"barpolar\"}], \"carpet\": [{\"aaxis\": {\"endlinecolor\": \"#2a3f5f\", \"gridcolor\": \"white\", \"linecolor\": \"white\", \"minorgridcolor\": \"white\", \"startlinecolor\": \"#2a3f5f\"}, \"baxis\": {\"endlinecolor\": \"#2a3f5f\", \"gridcolor\": \"white\", \"linecolor\": \"white\", \"minorgridcolor\": \"white\", \"startlinecolor\": \"#2a3f5f\"}, \"type\": \"carpet\"}], \"choropleth\": [{\"colorbar\": {\"outlinewidth\": 0, \"ticks\": \"\"}, \"type\": \"choropleth\"}], \"contour\": [{\"colorbar\": {\"outlinewidth\": 0, \"ticks\": \"\"}, \"colorscale\": [[0.0, \"#0d0887\"], [0.1111111111111111, \"#46039f\"], [0.2222222222222222, \"#7201a8\"], [0.3333333333333333, \"#9c179e\"], [0.4444444444444444, \"#bd3786\"], [0.5555555555555556, \"#d8576b\"], [0.6666666666666666, \"#ed7953\"], [0.7777777777777778, \"#fb9f3a\"], [0.8888888888888888, \"#fdca26\"], [1.0, \"#f0f921\"]], \"type\": \"contour\"}], \"contourcarpet\": [{\"colorbar\": {\"outlinewidth\": 0, \"ticks\": \"\"}, \"type\": \"contourcarpet\"}], \"heatmap\": [{\"colorbar\": {\"outlinewidth\": 0, \"ticks\": \"\"}, \"colorscale\": [[0.0, \"#0d0887\"], [0.1111111111111111, \"#46039f\"], [0.2222222222222222, \"#7201a8\"], [0.3333333333333333, \"#9c179e\"], [0.4444444444444444, \"#bd3786\"], [0.5555555555555556, \"#d8576b\"], [0.6666666666666666, \"#ed7953\"], [0.7777777777777778, \"#fb9f3a\"], [0.8888888888888888, \"#fdca26\"], [1.0, \"#f0f921\"]], \"type\": \"heatmap\"}], \"heatmapgl\": [{\"colorbar\": {\"outlinewidth\": 0, \"ticks\": \"\"}, \"colorscale\": [[0.0, \"#0d0887\"], [0.1111111111111111, \"#46039f\"], [0.2222222222222222, \"#7201a8\"], [0.3333333333333333, \"#9c179e\"], [0.4444444444444444, \"#bd3786\"], [0.5555555555555556, \"#d8576b\"], [0.6666666666666666, \"#ed7953\"], [0.7777777777777778, \"#fb9f3a\"], [0.8888888888888888, \"#fdca26\"], [1.0, \"#f0f921\"]], \"type\": \"heatmapgl\"}], \"histogram\": [{\"marker\": {\"colorbar\": {\"outlinewidth\": 0, \"ticks\": \"\"}}, \"type\": \"histogram\"}], \"histogram2d\": [{\"colorbar\": {\"outlinewidth\": 0, \"ticks\": \"\"}, \"colorscale\": [[0.0, \"#0d0887\"], [0.1111111111111111, \"#46039f\"], [0.2222222222222222, \"#7201a8\"], [0.3333333333333333, \"#9c179e\"], [0.4444444444444444, \"#bd3786\"], [0.5555555555555556, \"#d8576b\"], [0.6666666666666666, \"#ed7953\"], [0.7777777777777778, \"#fb9f3a\"], [0.8888888888888888, \"#fdca26\"], [1.0, \"#f0f921\"]], \"type\": \"histogram2d\"}], \"histogram2dcontour\": [{\"colorbar\": {\"outlinewidth\": 0, \"ticks\": \"\"}, \"colorscale\": [[0.0, \"#0d0887\"], [0.1111111111111111, \"#46039f\"], [0.2222222222222222, \"#7201a8\"], [0.3333333333333333, \"#9c179e\"], [0.4444444444444444, \"#bd3786\"], [0.5555555555555556, \"#d8576b\"], [0.6666666666666666, \"#ed7953\"], [0.7777777777777778, \"#fb9f3a\"], [0.8888888888888888, \"#fdca26\"], [1.0, \"#f0f921\"]], \"type\": \"histogram2dcontour\"}], \"mesh3d\": [{\"colorbar\": {\"outlinewidth\": 0, \"ticks\": \"\"}, \"type\": \"mesh3d\"}], \"parcoords\": [{\"line\": {\"colorbar\": {\"outlinewidth\": 0, \"ticks\": \"\"}}, \"type\": \"parcoords\"}], \"pie\": [{\"automargin\": true, \"type\": \"pie\"}], \"scatter\": [{\"marker\": {\"colorbar\": {\"outlinewidth\": 0, \"ticks\": \"\"}}, \"type\": \"scatter\"}], \"scatter3d\": [{\"line\": {\"colorbar\": {\"outlinewidth\": 0, \"ticks\": \"\"}}, \"marker\": {\"colorbar\": {\"outlinewidth\": 0, \"ticks\": \"\"}}, \"type\": \"scatter3d\"}], \"scattercarpet\": [{\"marker\": {\"colorbar\": {\"outlinewidth\": 0, \"ticks\": \"\"}}, \"type\": \"scattercarpet\"}], \"scattergeo\": [{\"marker\": {\"colorbar\": {\"outlinewidth\": 0, \"ticks\": \"\"}}, \"type\": \"scattergeo\"}], \"scattergl\": [{\"marker\": {\"colorbar\": {\"outlinewidth\": 0, \"ticks\": \"\"}}, \"type\": \"scattergl\"}], \"scattermapbox\": [{\"marker\": {\"colorbar\": {\"outlinewidth\": 0, \"ticks\": \"\"}}, \"type\": \"scattermapbox\"}], \"scatterpolar\": [{\"marker\": {\"colorbar\": {\"outlinewidth\": 0, \"ticks\": \"\"}}, \"type\": \"scatterpolar\"}], \"scatterpolargl\": [{\"marker\": {\"colorbar\": {\"outlinewidth\": 0, \"ticks\": \"\"}}, \"type\": \"scatterpolargl\"}], \"scatterternary\": [{\"marker\": {\"colorbar\": {\"outlinewidth\": 0, \"ticks\": \"\"}}, \"type\": \"scatterternary\"}], \"surface\": [{\"colorbar\": {\"outlinewidth\": 0, \"ticks\": \"\"}, \"colorscale\": [[0.0, \"#0d0887\"], [0.1111111111111111, \"#46039f\"], [0.2222222222222222, \"#7201a8\"], [0.3333333333333333, \"#9c179e\"], [0.4444444444444444, \"#bd3786\"], [0.5555555555555556, \"#d8576b\"], [0.6666666666666666, \"#ed7953\"], [0.7777777777777778, \"#fb9f3a\"], [0.8888888888888888, \"#fdca26\"], [1.0, \"#f0f921\"]], \"type\": \"surface\"}], \"table\": [{\"cells\": {\"fill\": {\"color\": \"#EBF0F8\"}, \"line\": {\"color\": \"white\"}}, \"header\": {\"fill\": {\"color\": \"#C8D4E3\"}, \"line\": {\"color\": \"white\"}}, \"type\": \"table\"}]}, \"layout\": {\"annotationdefaults\": {\"arrowcolor\": \"#2a3f5f\", \"arrowhead\": 0, \"arrowwidth\": 1}, \"coloraxis\": {\"colorbar\": {\"outlinewidth\": 0, \"ticks\": \"\"}}, \"colorscale\": {\"diverging\": [[0, \"#8e0152\"], [0.1, \"#c51b7d\"], [0.2, \"#de77ae\"], [0.3, \"#f1b6da\"], [0.4, \"#fde0ef\"], [0.5, \"#f7f7f7\"], [0.6, \"#e6f5d0\"], [0.7, \"#b8e186\"], [0.8, \"#7fbc41\"], [0.9, \"#4d9221\"], [1, \"#276419\"]], \"sequential\": [[0.0, \"#0d0887\"], [0.1111111111111111, \"#46039f\"], [0.2222222222222222, \"#7201a8\"], [0.3333333333333333, \"#9c179e\"], [0.4444444444444444, \"#bd3786\"], [0.5555555555555556, \"#d8576b\"], [0.6666666666666666, \"#ed7953\"], [0.7777777777777778, \"#fb9f3a\"], [0.8888888888888888, \"#fdca26\"], [1.0, \"#f0f921\"]], \"sequentialminus\": [[0.0, \"#0d0887\"], [0.1111111111111111, \"#46039f\"], [0.2222222222222222, \"#7201a8\"], [0.3333333333333333, \"#9c179e\"], [0.4444444444444444, \"#bd3786\"], [0.5555555555555556, \"#d8576b\"], [0.6666666666666666, \"#ed7953\"], [0.7777777777777778, \"#fb9f3a\"], [0.8888888888888888, \"#fdca26\"], [1.0, \"#f0f921\"]]}, \"colorway\": [\"#636efa\", \"#EF553B\", \"#00cc96\", \"#ab63fa\", \"#FFA15A\", \"#19d3f3\", \"#FF6692\", \"#B6E880\", \"#FF97FF\", \"#FECB52\"], \"font\": {\"color\": \"#2a3f5f\"}, \"geo\": {\"bgcolor\": \"white\", \"lakecolor\": \"white\", \"landcolor\": \"#E5ECF6\", \"showlakes\": true, \"showland\": true, \"subunitcolor\": \"white\"}, \"hoverlabel\": {\"align\": \"left\"}, \"hovermode\": \"closest\", \"mapbox\": {\"style\": \"light\"}, \"paper_bgcolor\": \"white\", \"plot_bgcolor\": \"#E5ECF6\", \"polar\": {\"angularaxis\": {\"gridcolor\": \"white\", \"linecolor\": \"white\", \"ticks\": \"\"}, \"bgcolor\": \"#E5ECF6\", \"radialaxis\": {\"gridcolor\": \"white\", \"linecolor\": \"white\", \"ticks\": \"\"}}, \"scene\": {\"xaxis\": {\"backgroundcolor\": \"#E5ECF6\", \"gridcolor\": \"white\", \"gridwidth\": 2, \"linecolor\": \"white\", \"showbackground\": true, \"ticks\": \"\", \"zerolinecolor\": \"white\"}, \"yaxis\": {\"backgroundcolor\": \"#E5ECF6\", \"gridcolor\": \"white\", \"gridwidth\": 2, \"linecolor\": \"white\", \"showbackground\": true, \"ticks\": \"\", \"zerolinecolor\": \"white\"}, \"zaxis\": {\"backgroundcolor\": \"#E5ECF6\", \"gridcolor\": \"white\", \"gridwidth\": 2, \"linecolor\": \"white\", \"showbackground\": true, \"ticks\": \"\", \"zerolinecolor\": \"white\"}}, \"shapedefaults\": {\"line\": {\"color\": \"#2a3f5f\"}}, \"ternary\": {\"aaxis\": {\"gridcolor\": \"white\", \"linecolor\": \"white\", \"ticks\": \"\"}, \"baxis\": {\"gridcolor\": \"white\", \"linecolor\": \"white\", \"ticks\": \"\"}, \"bgcolor\": \"#E5ECF6\", \"caxis\": {\"gridcolor\": \"white\", \"linecolor\": \"white\", \"ticks\": \"\"}}, \"title\": {\"x\": 0.05}, \"xaxis\": {\"automargin\": true, \"gridcolor\": \"white\", \"linecolor\": \"white\", \"ticks\": \"\", \"title\": {\"standoff\": 15}, \"zerolinecolor\": \"white\", \"zerolinewidth\": 2}, \"yaxis\": {\"automargin\": true, \"gridcolor\": \"white\", \"linecolor\": \"white\", \"ticks\": \"\", \"title\": {\"standoff\": 15}, \"zerolinecolor\": \"white\", \"zerolinewidth\": 2}}}, \"title\": {\"text\": \"Total Transit Trips in 2020-09\"}},                        {\"responsive\": true}                    ).then(function(){\n",
       "                            \n",
       "var gd = document.getElementById('b5da66a4-d8f3-49c6-a0d0-74ae74c12430');\n",
       "var x = new MutationObserver(function (mutations, observer) {{\n",
       "        var display = window.getComputedStyle(gd).display;\n",
       "        if (!display || display === 'none') {{\n",
       "            console.log([gd, 'removed!']);\n",
       "            Plotly.purge(gd);\n",
       "            observer.disconnect();\n",
       "        }}\n",
       "}});\n",
       "\n",
       "// Listen for the removal of the full notebook cells\n",
       "var notebookContainer = gd.closest('#notebook-container');\n",
       "if (notebookContainer) {{\n",
       "    x.observe(notebookContainer, {childList: true});\n",
       "}}\n",
       "\n",
       "// Listen for the clearing of the current output cell\n",
       "var outputEl = gd.closest('.output');\n",
       "if (outputEl) {{\n",
       "    x.observe(outputEl, {childList: true});\n",
       "}}\n",
       "\n",
       "                        })                };                });            </script>        </div>"
      ]
     },
     "metadata": {},
     "output_type": "display_data"
    }
   ],
   "source": [
    "fig = [px.scatter_mapbox(ridership_agg,\n",
    "                        lat=\"lat\",\n",
    "                        lon=\"lon\",\n",
    "                        size=\"trips\",\n",
    "                        # https://plotly.com/python/builtin-colorscales/\n",
    "                        color_continuous_scale=px.colors.sequential.Jet,\n",
    "                        size_max=80,\n",
    "                        zoom=3,\n",
    "                        hover_data=[\"trips\"],\n",
    "                        hover_name='metro_area'\n",
    "                        ),\n",
    "       px.choropleth(df, geojson=counties, locations='fips', color='unemp',\n",
    "                           color_continuous_scale=\"Viridis\",\n",
    "                           range_color=(0, 12),\n",
    "                           scope=\"usa\",\n",
    "                           labels={'unemp':'unemployment rate'}\n",
    "                          )\n",
    "      ]\n",
    "fig.update_layout(mapbox_style=\"open-street-map\")\n",
    "fig.update_layout(\n",
    "    title=f'Total Transit Trips in {select_date}',\n",
    ")\n",
    "fig.show()\n",
    "fig.write_html(\"map.html\")"
   ]
  },
  {
   "cell_type": "code",
   "execution_count": null,
   "metadata": {},
   "outputs": [],
   "source": []
  }
 ],
 "metadata": {
  "kernelspec": {
   "display_name": "Python 3",
   "language": "python",
   "name": "python3"
  },
  "language_info": {
   "codemirror_mode": {
    "name": "ipython",
    "version": 3
   },
   "file_extension": ".py",
   "mimetype": "text/x-python",
   "name": "python",
   "nbconvert_exporter": "python",
   "pygments_lexer": "ipython3",
   "version": "3.8.5"
  }
 },
 "nbformat": 4,
 "nbformat_minor": 4
}
