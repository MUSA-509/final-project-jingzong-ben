{
 "cells": [
  {
   "cell_type": "code",
   "execution_count": 6,
   "metadata": {},
   "outputs": [],
   "source": [
    "import pandas as pd\n",
    "import altair as alt\n",
    "from google.cloud import bigquery\n",
    "import geopandas as gpd\n",
    "from shapely import wkt\n",
    "from census import Census\n",
    "from us import states\n",
    "#import google.auth\n",
    "#from google.cloud import bigquery\n",
    "#from google.cloud import bigquery_storage\n",
    "bqclient = bigquery.Client.from_service_account_json('C:/Users/bennd/Documents/MUSA509/TransitPolicyApp-99838a65a6ed.json')\n",
    "pd.set_option('mode.chained_assignment', None)\n",
    "#ridership = pd.read_csv(\"data/ridership.csv\")\n",
    "#ridership['month'] = pd.to_datetime(ridership['month'])\n",
    "covid = pd.read_csv(\"data/covid.csv\", dtype={\"fips\": str})\n",
    "covid['date'] = pd.to_datetime(covid['date'])\n",
    "top50 = pd.read_csv(\"data/top50.csv\", dtype={\"fips\": str})"
   ]
  },
  {
   "cell_type": "code",
   "execution_count": 7,
   "metadata": {},
   "outputs": [],
   "source": [
    "import plotly.express as px"
   ]
  },
  {
   "cell_type": "code",
   "execution_count": 8,
   "metadata": {},
   "outputs": [
    {
     "data": {
      "text/html": [
       "<div>\n",
       "<style scoped>\n",
       "    .dataframe tbody tr th:only-of-type {\n",
       "        vertical-align: middle;\n",
       "    }\n",
       "\n",
       "    .dataframe tbody tr th {\n",
       "        vertical-align: top;\n",
       "    }\n",
       "\n",
       "    .dataframe thead th {\n",
       "        text-align: right;\n",
       "    }\n",
       "</style>\n",
       "<table border=\"1\" class=\"dataframe\">\n",
       "  <thead>\n",
       "    <tr style=\"text-align: right;\">\n",
       "      <th></th>\n",
       "      <th>date</th>\n",
       "      <th>county</th>\n",
       "      <th>state</th>\n",
       "      <th>fips</th>\n",
       "      <th>cases</th>\n",
       "      <th>deaths</th>\n",
       "    </tr>\n",
       "  </thead>\n",
       "  <tbody>\n",
       "    <tr>\n",
       "      <th>577661</th>\n",
       "      <td>2020-09-30</td>\n",
       "      <td>Autauga</td>\n",
       "      <td>Alabama</td>\n",
       "      <td>1001</td>\n",
       "      <td>1791</td>\n",
       "      <td>27.0</td>\n",
       "    </tr>\n",
       "    <tr>\n",
       "      <th>577662</th>\n",
       "      <td>2020-09-30</td>\n",
       "      <td>Baldwin</td>\n",
       "      <td>Alabama</td>\n",
       "      <td>1003</td>\n",
       "      <td>5640</td>\n",
       "      <td>52.0</td>\n",
       "    </tr>\n",
       "    <tr>\n",
       "      <th>577663</th>\n",
       "      <td>2020-09-30</td>\n",
       "      <td>Barbour</td>\n",
       "      <td>Alabama</td>\n",
       "      <td>1005</td>\n",
       "      <td>896</td>\n",
       "      <td>7.0</td>\n",
       "    </tr>\n",
       "    <tr>\n",
       "      <th>577664</th>\n",
       "      <td>2020-09-30</td>\n",
       "      <td>Bibb</td>\n",
       "      <td>Alabama</td>\n",
       "      <td>1007</td>\n",
       "      <td>664</td>\n",
       "      <td>11.0</td>\n",
       "    </tr>\n",
       "    <tr>\n",
       "      <th>577665</th>\n",
       "      <td>2020-09-30</td>\n",
       "      <td>Blount</td>\n",
       "      <td>Alabama</td>\n",
       "      <td>1009</td>\n",
       "      <td>1629</td>\n",
       "      <td>15.0</td>\n",
       "    </tr>\n",
       "    <tr>\n",
       "      <th>...</th>\n",
       "      <td>...</td>\n",
       "      <td>...</td>\n",
       "      <td>...</td>\n",
       "      <td>...</td>\n",
       "      <td>...</td>\n",
       "      <td>...</td>\n",
       "    </tr>\n",
       "    <tr>\n",
       "      <th>580867</th>\n",
       "      <td>2020-09-30</td>\n",
       "      <td>Sweetwater</td>\n",
       "      <td>Wyoming</td>\n",
       "      <td>56037</td>\n",
       "      <td>339</td>\n",
       "      <td>2.0</td>\n",
       "    </tr>\n",
       "    <tr>\n",
       "      <th>580868</th>\n",
       "      <td>2020-09-30</td>\n",
       "      <td>Teton</td>\n",
       "      <td>Wyoming</td>\n",
       "      <td>56039</td>\n",
       "      <td>577</td>\n",
       "      <td>1.0</td>\n",
       "    </tr>\n",
       "    <tr>\n",
       "      <th>580869</th>\n",
       "      <td>2020-09-30</td>\n",
       "      <td>Uinta</td>\n",
       "      <td>Wyoming</td>\n",
       "      <td>56041</td>\n",
       "      <td>357</td>\n",
       "      <td>2.0</td>\n",
       "    </tr>\n",
       "    <tr>\n",
       "      <th>580870</th>\n",
       "      <td>2020-09-30</td>\n",
       "      <td>Washakie</td>\n",
       "      <td>Wyoming</td>\n",
       "      <td>56043</td>\n",
       "      <td>115</td>\n",
       "      <td>6.0</td>\n",
       "    </tr>\n",
       "    <tr>\n",
       "      <th>580871</th>\n",
       "      <td>2020-09-30</td>\n",
       "      <td>Weston</td>\n",
       "      <td>Wyoming</td>\n",
       "      <td>56045</td>\n",
       "      <td>39</td>\n",
       "      <td>0.0</td>\n",
       "    </tr>\n",
       "  </tbody>\n",
       "</table>\n",
       "<p>3211 rows × 6 columns</p>\n",
       "</div>"
      ],
      "text/plain": [
       "             date      county    state   fips  cases  deaths\n",
       "577661 2020-09-30     Autauga  Alabama   1001   1791    27.0\n",
       "577662 2020-09-30     Baldwin  Alabama   1003   5640    52.0\n",
       "577663 2020-09-30     Barbour  Alabama   1005    896     7.0\n",
       "577664 2020-09-30        Bibb  Alabama   1007    664    11.0\n",
       "577665 2020-09-30      Blount  Alabama   1009   1629    15.0\n",
       "...           ...         ...      ...    ...    ...     ...\n",
       "580867 2020-09-30  Sweetwater  Wyoming  56037    339     2.0\n",
       "580868 2020-09-30       Teton  Wyoming  56039    577     1.0\n",
       "580869 2020-09-30       Uinta  Wyoming  56041    357     2.0\n",
       "580870 2020-09-30    Washakie  Wyoming  56043    115     6.0\n",
       "580871 2020-09-30      Weston  Wyoming  56045     39     0.0\n",
       "\n",
       "[3211 rows x 6 columns]"
      ]
     },
     "execution_count": 8,
     "metadata": {},
     "output_type": "execute_result"
    }
   ],
   "source": [
    "covid_l = covid[covid[\"date\"] == \"2020-09-30\"]\n",
    "covid_l"
   ]
  },
  {
   "cell_type": "code",
   "execution_count": null,
   "metadata": {},
   "outputs": [],
   "source": [
    "#Pull ridership data from Google BigQuery\n",
    "\n",
    "query = f\"\"\"\n",
    "    SELECT metro_area, area_land, area_water, GEOID10, mode, month, trips, classification, lat, lon\n",
    "    FROM `transitpolicyapp.ridership.Ridership`\n",
    "    GROUP BY metro_area, area_land, area_water, GEOID10, mode, month, trips, classification, lat, lon\n",
    "\"\"\"\n",
    "ridership = bqclient.query(query).to_dataframe()\n",
    "ridership.head()"
   ]
  },
  {
   "cell_type": "code",
   "execution_count": null,
   "metadata": {},
   "outputs": [],
   "source": [
    "#Generate interactive altair ridership chart by mode and month\n",
    "\n",
    "search = \"Philadelphia, PA-NJ-DE-MD\"\n",
    "\n",
    "ridership_s = ridership[ridership[\"metro_area\"] == search]\n",
    "chart_ridership = alt.Chart(ridership_s).mark_area().encode(\n",
    "    x=alt.X('month:T', axis=alt.Axis(title='Month')),\n",
    "    y=alt.Y('trips:Q', axis=alt.Axis(title='Total Transit Trips')),\n",
    "    color=\"mode:N\",\n",
    "    tooltip=['month','mode', 'trips']\n",
    ").interactive()\n",
    "chart_ridership.save('chart_ridership.html')"
   ]
  },
  {
   "cell_type": "code",
   "execution_count": null,
   "metadata": {
    "scrolled": true
   },
   "outputs": [],
   "source": [
    "top50_c = top50.merge(covid_l, on=\"fips\", how='left')\n",
    "top50_c.head()"
   ]
  },
  {
   "cell_type": "code",
   "execution_count": null,
   "metadata": {},
   "outputs": [],
   "source": [
    "select_date = \"2020-09\"\n",
    "ridership_agg = ridership[ridership[\"month\"] == select_date]\n",
    "ridership_agg = ridership_agg.groupby(['GEOID10', 'metro_area'], as_index=False).agg({'trips': 'sum', 'lat': 'min', 'lon': 'min'})\n",
    "ridership_agg.head()"
   ]
  },
  {
   "cell_type": "code",
   "execution_count": null,
   "metadata": {},
   "outputs": [],
   "source": [
    "ridership_agg = ridership_agg[['GEOID10','trips']]\n",
    "top50_c = top50_c.merge(ridership_agg, on=\"GEOID10\", how='left')\n",
    "top50_c.head()"
   ]
  },
  {
   "cell_type": "code",
   "execution_count": null,
   "metadata": {},
   "outputs": [],
   "source": [
    "#Plot relationship between covid cases and transit trips\n",
    "\n",
    "chart_scatter = alt.Chart(top50_c).mark_circle(size=200).encode(\n",
    "    x=alt.X('cases', axis=alt.Axis(title='COVID-19 Cases (Cumulative)')),\n",
    "    y=alt.Y('trips', axis=alt.Axis(title='Total Transit Trips in September 2020')),\n",
    "    color=alt.Color('state', legend=None),\n",
    "    tooltip=['metro_area', 'cases', 'deaths', 'trips']\n",
    ").interactive()\n",
    "chart_scatter.save('scatter.html')"
   ]
  },
  {
   "cell_type": "code",
   "execution_count": null,
   "metadata": {},
   "outputs": [],
   "source": [
    "#Query covid data for a sample city\n",
    "\n",
    "search_county = \"San Francisco\"\n",
    "covid_s = covid[covid[\"county\"] == search_county]\n",
    "covid_s['new_cases'] = covid_s['cases'].diff()\n",
    "covid_s['new_deaths'] = covid_s['deaths'].diff()\n",
    "covid_s['cases_avg'] = covid_s.iloc[:,6].rolling(window=7).mean()\n",
    "covid_s['deaths_avg'] = covid_s.iloc[:,7].rolling(window=7).mean()\n",
    "covid_s['DateTime'] = pd.to_datetime(covid_s['date'])\n",
    "covid_s"
   ]
  },
  {
   "cell_type": "code",
   "execution_count": null,
   "metadata": {
    "scrolled": true
   },
   "outputs": [],
   "source": [
    "#Plot covid cases with altair\n",
    "\n",
    "chart_cases = alt.Chart(covid_s).mark_bar().encode(\n",
    "    x=alt.X('date:T', axis=alt.Axis(title='Month')),\n",
    "    y=alt.Y('cases_avg:Q', axis=alt.Axis(title='New COVID-19 Cases Reported')),\n",
    ")\n",
    "chart_cases.save('chart_cases.html')"
   ]
  },
  {
   "cell_type": "code",
   "execution_count": null,
   "metadata": {},
   "outputs": [],
   "source": [
    "#Plot covid deaths with altair\n",
    "\n",
    "chart_deaths = alt.Chart(covid_s).mark_bar().encode(\n",
    "    x=alt.X('date:T', axis=alt.Axis(title='Month')),\n",
    "    y=alt.Y('deaths_avg:Q', axis=alt.Axis(title='New COVID-19 Deaths Reported')),\n",
    "    color=alt.value('orange'),\n",
    ")\n",
    "chart_deaths.save('chart_deaths.html')"
   ]
  },
  {
   "cell_type": "code",
   "execution_count": null,
   "metadata": {},
   "outputs": [],
   "source": [
    "fig = [px.scatter_mapbox(ridership_agg,\n",
    "                        lat=\"lat\",\n",
    "                        lon=\"lon\",\n",
    "                        size=\"trips\",\n",
    "                        # https://plotly.com/python/builtin-colorscales/\n",
    "                        color_continuous_scale=px.colors.sequential.Jet,\n",
    "                        size_max=80,\n",
    "                        zoom=3,\n",
    "                        hover_data=[\"trips\"],\n",
    "                        hover_name='metro_area'\n",
    "                        ),\n",
    "       px.choropleth(df, geojson=counties, locations='fips', color='unemp',\n",
    "                           color_continuous_scale=\"Viridis\",\n",
    "                           range_color=(0, 12),\n",
    "                           scope=\"usa\",\n",
    "                           labels={'unemp':'unemployment rate'}\n",
    "                          )\n",
    "      ]\n",
    "fig.update_layout(mapbox_style=\"open-street-map\")\n",
    "fig.update_layout(\n",
    "    title=f'Total Transit Trips in {select_date}',\n",
    ")\n",
    "fig.show()\n",
    "fig.write_html(\"map.html\")"
   ]
  },
  {
   "cell_type": "code",
   "execution_count": null,
   "metadata": {},
   "outputs": [],
   "source": []
  }
 ],
 "metadata": {
  "kernelspec": {
   "display_name": "Python 3",
   "language": "python",
   "name": "python3"
  },
  "language_info": {
   "codemirror_mode": {
    "name": "ipython",
    "version": 3
   },
   "file_extension": ".py",
   "mimetype": "text/x-python",
   "name": "python",
   "nbconvert_exporter": "python",
   "pygments_lexer": "ipython3",
   "version": "3.8.5"
  }
 },
 "nbformat": 4,
 "nbformat_minor": 4
}
